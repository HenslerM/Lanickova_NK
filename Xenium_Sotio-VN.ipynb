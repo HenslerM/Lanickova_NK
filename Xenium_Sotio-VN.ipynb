{
 "cells": [
  {
   "cell_type": "code",
   "execution_count": null,
   "id": "ae299a23",
   "metadata": {},
   "outputs": [],
   "source": [
    "library(Seurat)\n",
    "library(SeuratDisk)\n",
    "library(patchwork)\n",
    "library(harmony)\n",
    "library(reshape2)\n",
    "library(RColorBrewer)\n",
    "library(dplyr)\n",
    "library(readr)\n",
    "library(tidyverse)\n",
    "library(Matrix)\n",
    "library(Seurat)\n",
    "library(ggplot2)\n",
    "library(cowplot)\n",
    "library(celldex)\n",
    "library(SingleR)\n",
    "library(data.table)\n",
    "library(scGate)\n",
    "library(ggpubr)\n",
    "library(scCustomize)\n",
    "library(XeniumSpatialAnalysis)"
   ]
  },
  {
   "cell_type": "markdown",
   "id": "d4320354",
   "metadata": {},
   "source": [
    "# Loading data"
   ]
  },
  {
   "cell_type": "code",
   "execution_count": null,
   "id": "b13fe076",
   "metadata": {},
   "outputs": [],
   "source": [
    "load(\"Xenium/NSCLC.1B.rda\")\n",
    "load(\"Xenium/nsclc_2_a.rda\")\n",
    "load(\"Xenium/hgsoc_1_b.rda\")\n",
    "load(\"Xenium/hgsoc_2_a.rda\")\n"
   ]
  },
  {
   "cell_type": "code",
   "execution_count": null,
   "id": "a773234f",
   "metadata": {},
   "outputs": [],
   "source": [
    "ls()"
   ]
  },
  {
   "cell_type": "code",
   "execution_count": null,
   "id": "a13a9183",
   "metadata": {},
   "outputs": [],
   "source": [
    "nsclc_1B  <- NSCLC.1B"
   ]
  },
  {
   "cell_type": "code",
   "execution_count": null,
   "id": "0ab16006",
   "metadata": {},
   "outputs": [],
   "source": [
    "rm(NSCLC.1B)"
   ]
  },
  {
   "cell_type": "code",
   "execution_count": null,
   "id": "36e23cc4",
   "metadata": {},
   "outputs": [],
   "source": [
    "ls()"
   ]
  },
  {
   "cell_type": "markdown",
   "id": "fafc3093",
   "metadata": {},
   "source": [
    "## Markers in the panel"
   ]
  },
  {
   "cell_type": "code",
   "execution_count": null,
   "id": "6518469d",
   "metadata": {},
   "outputs": [],
   "source": [
    "rownames(hgsoc_1_b)"
   ]
  },
  {
   "cell_type": "code",
   "execution_count": null,
   "id": "e86e0dd2",
   "metadata": {},
   "outputs": [],
   "source": [
    "ImageDimPlot(hgsoc_1_b, fov = \"fov\", molecules = c(\"LCK\", \"CD3E\", \"FOXP3\", \"CD79A\"), nmols = 20000, axes = )"
   ]
  },
  {
   "cell_type": "code",
   "execution_count": null,
   "id": "7c2396af",
   "metadata": {},
   "outputs": [],
   "source": [
    "hgsoc_2_a@images$fov"
   ]
  },
  {
   "cell_type": "code",
   "execution_count": null,
   "id": "1ec33476",
   "metadata": {},
   "outputs": [],
   "source": [
    "str(hgsoc_2_a@images$fov)"
   ]
  },
  {
   "cell_type": "code",
   "execution_count": null,
   "id": "107ba4db",
   "metadata": {},
   "outputs": [],
   "source": [
    "ImageDimPlot(hgsoc_2_a, fov = \"fov\", molecules = c(\"LCK\", \"CD3E\", \"FOXP3\", \"CD79A\"), nmols = 20000)"
   ]
  },
  {
   "cell_type": "code",
   "execution_count": null,
   "id": "503d6dae",
   "metadata": {},
   "outputs": [],
   "source": [
    "ImageDimPlot(nsclc_1B, fov = \"fov\", molecules = c(\"LCK\", \"CD3E\", \"FOXP3\", \"CD79A\"), nmols = 20000)"
   ]
  },
  {
   "cell_type": "code",
   "execution_count": null,
   "id": "1f1f5a8a",
   "metadata": {},
   "outputs": [],
   "source": [
    "ImageDimPlot(nsclc_2_a, fov = \"fov\", molecules = c(\"LCK\", \"CD3E\", \"FOXP3\", \"CD79A\"), nmols = 20000)"
   ]
  },
  {
   "cell_type": "markdown",
   "id": "1b1d495d",
   "metadata": {},
   "source": [
    "# Clustering, marker visualization"
   ]
  },
  {
   "cell_type": "code",
   "execution_count": null,
   "id": "5f69300b",
   "metadata": {},
   "outputs": [],
   "source": [
    "hgsoc_1_b <- SCTransform(hgsoc_1_b, assay = \"Xenium\")\n",
    "hgsoc_1_b <- RunPCA(hgsoc_1_b, npcs = 30, features = rownames(hgsoc_1_b))\n",
    "hgsoc_1_b <- RunUMAP(hgsoc_1_b, dims = 1:30)\n",
    "hgsoc_1_b <- FindNeighbors(hgsoc_1_b, reduction = \"pca\", dims = 1:30)\n",
    "hgsoc_1_b <- FindClusters(hgsoc_1_b, resolution = 0.3)"
   ]
  },
  {
   "cell_type": "code",
   "execution_count": null,
   "id": "9d9fac2d",
   "metadata": {},
   "outputs": [],
   "source": [
    "DimPlot(hgsoc_1_b)"
   ]
  },
  {
   "cell_type": "code",
   "execution_count": null,
   "id": "1b8e55ee",
   "metadata": {},
   "outputs": [],
   "source": [
    "FeaturePlot(hgsoc_1_b, features = c(\"CD8A\",\"CD4\",\"LCK\",\"CD3D\"))"
   ]
  },
  {
   "cell_type": "code",
   "execution_count": null,
   "id": "f4f23cc0",
   "metadata": {},
   "outputs": [],
   "source": [
    "FeaturePlot(hgsoc_1_b, features = c(\"CD79A\",\"MS4A1\",\"JCHAIN\",\"FCER2\"))"
   ]
  },
  {
   "cell_type": "code",
   "execution_count": null,
   "id": "735108a5",
   "metadata": {},
   "outputs": [],
   "source": [
    "dir.create(\"./figures/dimplots/hgsoc_1_b/\", recursive = T)"
   ]
  },
  {
   "cell_type": "code",
   "execution_count": null,
   "id": "08338268",
   "metadata": {},
   "outputs": [],
   "source": [
    "for(i in rownames(hgsoc_1_b)){\n",
    "    print(FeaturePlot(hgsoc_1_b, features = i))\n",
    "    ggsave(paste0(\"figures/dimplots/hgsoc_1_b/\",i,\".png\"), width = 13, height = 10, units = \"cm\")\n",
    "}"
   ]
  },
  {
   "cell_type": "code",
   "execution_count": null,
   "id": "434cbc01",
   "metadata": {},
   "outputs": [],
   "source": [
    "hgsoc_2_a <- SCTransform(hgsoc_2_a, assay = \"Xenium\")\n",
    "hgsoc_2_a <- RunPCA(hgsoc_2_a, npcs = 30, features = rownames(hgsoc_2_a))\n",
    "hgsoc_2_a <- RunUMAP(hgsoc_2_a, dims = 1:30)\n",
    "hgsoc_2_a <- FindNeighbors(hgsoc_2_a, reduction = \"pca\", dims = 1:30)\n",
    "hgsoc_2_a <- FindClusters(hgsoc_2_a, resolution = 0.3)"
   ]
  },
  {
   "cell_type": "code",
   "execution_count": null,
   "id": "4ca1923f",
   "metadata": {},
   "outputs": [],
   "source": [
    "dir.create(\"./figures/dimplots/hgsoc_2_a/\", recursive = T)"
   ]
  },
  {
   "cell_type": "code",
   "execution_count": null,
   "id": "2df18e17",
   "metadata": {},
   "outputs": [],
   "source": [
    "for(i in rownames(hgsoc_2_a)){\n",
    "    print(FeaturePlot(hgsoc_2_a, features = i))\n",
    "    ggsave(paste0(\"figures/dimplots/hgsoc_2_a/\",i,\".png\"), width = 13, height = 10, units = \"cm\")\n",
    "}"
   ]
  },
  {
   "cell_type": "code",
   "execution_count": null,
   "id": "a3f6a152",
   "metadata": {},
   "outputs": [],
   "source": []
  },
  {
   "cell_type": "code",
   "execution_count": null,
   "id": "44480d77",
   "metadata": {},
   "outputs": [],
   "source": [
    "nsclc_1B <- SCTransform(nsclc_1B, assay = \"Xenium\")\n",
    "nsclc_1B <- RunPCA(nsclc_1B, npcs = 30, features = rownames(nsclc_1B))\n",
    "nsclc_1B <- RunUMAP(nsclc_1B, dims = 1:30)\n",
    "nsclc_1B <- FindNeighbors(nsclc_1B, reduction = \"pca\", dims = 1:30)\n",
    "nsclc_1B <- FindClusters(nsclc_1B, resolution = 0.3)"
   ]
  },
  {
   "cell_type": "code",
   "execution_count": null,
   "id": "d21cb4e5",
   "metadata": {},
   "outputs": [],
   "source": [
    "dir.create(\"./figures/dimplots/nsclc_1B/\", recursive = T)"
   ]
  },
  {
   "cell_type": "code",
   "execution_count": null,
   "id": "1201905d",
   "metadata": {},
   "outputs": [],
   "source": [
    "for(i in rownames(nsclc_1B)){\n",
    "    print(FeaturePlot(nsclc_1B, features = i))\n",
    "    ggsave(paste0(\"figures/dimplots/nsclc_1B/\",i,\".png\"), width = 13, height = 10, units = \"cm\")\n",
    "}"
   ]
  },
  {
   "cell_type": "code",
   "execution_count": null,
   "id": "553007cd",
   "metadata": {},
   "outputs": [],
   "source": [
    "options(future.globals.maxSize = 20000 * 1024^2)"
   ]
  },
  {
   "cell_type": "code",
   "execution_count": null,
   "id": "166903fe",
   "metadata": {},
   "outputs": [],
   "source": [
    "nsclc_2_a <- SCTransform(nsclc_2_a, assay = \"Xenium\")\n",
    "nsclc_2_a <- RunPCA(nsclc_2_a, npcs = 30, features = rownames(nsclc_2_a))\n",
    "nsclc_2_a <- RunUMAP(nsclc_2_a, dims = 1:30)\n",
    "nsclc_2_a <- FindNeighbors(nsclc_2_a, reduction = \"pca\", dims = 1:30)\n",
    "nsclc_2_a <- FindClusters(nsclc_2_a, resolution = 0.3)"
   ]
  },
  {
   "cell_type": "code",
   "execution_count": null,
   "id": "f25528cf",
   "metadata": {},
   "outputs": [],
   "source": []
  },
  {
   "cell_type": "code",
   "execution_count": null,
   "id": "f977aafb",
   "metadata": {
    "scrolled": true
   },
   "outputs": [],
   "source": [
    "nsclc_2_a"
   ]
  },
  {
   "cell_type": "code",
   "execution_count": null,
   "id": "f98c2f12",
   "metadata": {},
   "outputs": [],
   "source": [
    "dir.create(\"./figures/dimplots/nsclc_2_a/\", recursive = T)"
   ]
  },
  {
   "cell_type": "code",
   "execution_count": null,
   "id": "ebb1be3c",
   "metadata": {},
   "outputs": [],
   "source": [
    "for(i in rownames(nsclc_2_a)){\n",
    "    print(FeaturePlot(nsclc_2_a, features = i))\n",
    "    ggsave(paste0(\"figures/dimplots/nsclc_2_a/\",i,\".png\"), width = 13, height = 10, units = \"cm\")\n",
    "}"
   ]
  },
  {
   "cell_type": "code",
   "execution_count": null,
   "id": "241c3335",
   "metadata": {},
   "outputs": [],
   "source": [
    "dir.create(\"./datasets/\", recursive = T)"
   ]
  },
  {
   "cell_type": "code",
   "execution_count": null,
   "id": "d07892cd",
   "metadata": {},
   "outputs": [],
   "source": [
    "saveRDS(nsclc_2_a, \"./datasets/nsclc_2_a.rds\")\n",
    "saveRDS(nsclc_1B, \"./datasets/nsclc_1B.rds\")\n",
    "saveRDS(hgsoc_2_a, \"./datasets/hgsoc_2_a.rds\")\n",
    "saveRDS(hgsoc_1_b, \"./datasets/hgsoc_1_b.rds\")"
   ]
  },
  {
   "cell_type": "markdown",
   "id": "0a6d3aea",
   "metadata": {},
   "source": [
    "# Identification of cell types"
   ]
  },
  {
   "cell_type": "markdown",
   "id": "1e5501de",
   "metadata": {},
   "source": [
    "## Downsampling for easier optimization"
   ]
  },
  {
   "cell_type": "code",
   "execution_count": null,
   "id": "8b50a623",
   "metadata": {},
   "outputs": [],
   "source": [
    "nsclc_2_a$barcode  <- colnames(nsclc_2_a)\n",
    "nsclc_1B$barcode  <- colnames(nsclc_1B)\n",
    "hgsoc_2_a$barcode  <- colnames(hgsoc_2_a)\n",
    "hgsoc_1_b$barcode  <- colnames(hgsoc_1_b)\n"
   ]
  },
  {
   "cell_type": "code",
   "execution_count": null,
   "id": "178f0b69",
   "metadata": {},
   "outputs": [],
   "source": [
    "nsclc_2_a_ds  <- subset(nsclc_2_a, barcode %in% sample(colnames(nsclc_2_a), size = 20000))"
   ]
  },
  {
   "cell_type": "code",
   "execution_count": null,
   "id": "e508224a",
   "metadata": {},
   "outputs": [],
   "source": [
    "nsclc_1B_ds  <- subset(nsclc_1B, barcode %in% sample(colnames(nsclc_1B), size = 20000))"
   ]
  },
  {
   "cell_type": "code",
   "execution_count": null,
   "id": "44b1d634",
   "metadata": {},
   "outputs": [],
   "source": [
    "hgsoc_2_a_ds  <- subset(hgsoc_2_a, barcode %in% sample(colnames(hgsoc_2_a), size = 20000))"
   ]
  },
  {
   "cell_type": "code",
   "execution_count": null,
   "id": "d9045b00",
   "metadata": {
    "scrolled": true
   },
   "outputs": [],
   "source": [
    "hgsoc_1_b_ds  <- subset(hgsoc_1_b, barcode %in% sample(colnames(hgsoc_1_b), size = 20000))"
   ]
  },
  {
   "cell_type": "markdown",
   "id": "5b7aa5ce",
   "metadata": {},
   "source": [
    "## Merging samples based on cancer type"
   ]
  },
  {
   "cell_type": "code",
   "execution_count": null,
   "id": "6514b2b9",
   "metadata": {},
   "outputs": [],
   "source": [
    "nsclc_2_a_ds$sample  <- \"nsclc_2_a\"\n",
    "nsclc_1B_ds$sample  <- \"nsclc_1B\"\n",
    "hgsoc_1_b_ds$sample  <- \"hgsoc_1_b\"\n",
    "hgsoc_2_a_ds$sample  <- \"hgsoc_2_a\"\n"
   ]
  },
  {
   "cell_type": "markdown",
   "id": "6e7acfa9",
   "metadata": {},
   "source": [
    "### Lung"
   ]
  },
  {
   "cell_type": "code",
   "execution_count": null,
   "id": "0de8f12c",
   "metadata": {},
   "outputs": [],
   "source": [
    "int_lung  <- merge(nsclc_2_a_ds, nsclc_1B_ds)"
   ]
  },
  {
   "cell_type": "code",
   "execution_count": null,
   "id": "23bbeaef",
   "metadata": {
    "scrolled": true
   },
   "outputs": [],
   "source": [
    "int_lung <- SCTransform(int_lung, assay = \"Xenium\")\n",
    "int_lung <- RunPCA(int_lung, npcs = 30, features = rownames(int_lung))\n",
    "int_lung <- RunUMAP(int_lung, dims = 1:30)\n",
    "int_lung <- FindNeighbors(int_lung, reduction = \"pca\", dims = 1:30)\n",
    "int_lung <- FindClusters(int_lung, resolution = 0.3)"
   ]
  },
  {
   "cell_type": "code",
   "execution_count": null,
   "id": "8753583b",
   "metadata": {},
   "outputs": [],
   "source": [
    "DimPlot(int_lung, group.by = \"sample\")"
   ]
  },
  {
   "cell_type": "code",
   "execution_count": null,
   "id": "f1d37dce",
   "metadata": {},
   "outputs": [],
   "source": [
    "int_lung <- split(int_lung, f = int_lung$sample)"
   ]
  },
  {
   "cell_type": "code",
   "execution_count": null,
   "id": "3d54da7c",
   "metadata": {},
   "outputs": [],
   "source": [
    "int_lung <- NormalizeData(int_lung)\n",
    "int_lung <- FindVariableFeatures(int_lung)\n",
    "int_lung <- ScaleData(int_lung)\n",
    "int_lung <- RunPCA(int_lung)"
   ]
  },
  {
   "cell_type": "code",
   "execution_count": null,
   "id": "c939d956",
   "metadata": {},
   "outputs": [],
   "source": [
    "int_lung <- IntegrateLayers(\n",
    "  object = int_lung, method = HarmonyIntegration,\n",
    "  orig.reduction = \"pca\", new.reduction = \"harmony\",\n",
    "  verbose = FALSE\n",
    ")"
   ]
  },
  {
   "cell_type": "code",
   "execution_count": null,
   "id": "2c70f918",
   "metadata": {
    "scrolled": true
   },
   "outputs": [],
   "source": [
    "int_lung <- RunUMAP(int_lung, reduction = \"harmony\", dims = 1:30, reduction.name = \"umap.harmony\")"
   ]
  },
  {
   "cell_type": "code",
   "execution_count": null,
   "id": "6140777e",
   "metadata": {},
   "outputs": [],
   "source": [
    "DimPlot(int_lung, group.by = \"sample\", reduction = \"umap.harmony\")"
   ]
  },
  {
   "cell_type": "code",
   "execution_count": null,
   "id": "f500971a",
   "metadata": {},
   "outputs": [],
   "source": [
    "FeaturePlot(int_lung, features = c(\"CD79A\",\"MS4A1\",\"JCHAIN\",\"FCER2\"), reduction = \"umap.harmony\")"
   ]
  },
  {
   "cell_type": "code",
   "execution_count": null,
   "id": "dc96401b",
   "metadata": {},
   "outputs": [],
   "source": [
    "FeaturePlot(int_lung, features = c(\"CD8A\",\"CD4\",\"LCK\",\"CD3D\"), reduction = \"umap.harmony\")"
   ]
  },
  {
   "cell_type": "code",
   "execution_count": null,
   "id": "c417516a",
   "metadata": {},
   "outputs": [],
   "source": [
    "FeaturePlot(int_lung, features = c(\"CEACAM1\",\"EGFR\",\"EPCAM\",\"KRAS\"), reduction = \"umap.harmony\")"
   ]
  },
  {
   "cell_type": "code",
   "execution_count": null,
   "id": "0595e773",
   "metadata": {},
   "outputs": [],
   "source": [
    "options(repr.plot.width = 24, repr.plot.height = 8)\n",
    "FeaturePlot(int_lung, features = c('KLRB1','KLRC1','KLRD1','KLRF1','KLRK1',\n",
    "                                  \"NCAM1\",\"NKG7\",\"EOMES\",\n",
    "                                  'GNLY','GZMA','GZMB','GZMH','GZMK'), reduction = \"umap.harmony\", ncol = 7)"
   ]
  },
  {
   "cell_type": "markdown",
   "id": "696130c6",
   "metadata": {},
   "source": [
    "### Ovarian"
   ]
  },
  {
   "cell_type": "code",
   "execution_count": null,
   "id": "a0b96e52",
   "metadata": {},
   "outputs": [],
   "source": [
    "int_ova  <- merge(hgsoc_1_b_ds, hgsoc_2_a_ds)"
   ]
  },
  {
   "cell_type": "code",
   "execution_count": null,
   "id": "74351c56",
   "metadata": {
    "scrolled": true
   },
   "outputs": [],
   "source": [
    "int_ova <- SCTransform(int_ova, assay = \"Xenium\")\n",
    "int_ova <- RunPCA(int_ova, npcs = 30, features = rownames(int_ova))\n",
    "int_ova <- RunUMAP(int_ova, dims = 1:30)\n",
    "int_ova <- FindNeighbors(int_ova, reduction = \"pca\", dims = 1:30)\n",
    "int_ova <- FindClusters(int_ova, resolution = 0.3)"
   ]
  },
  {
   "cell_type": "code",
   "execution_count": null,
   "id": "e3220a2d",
   "metadata": {},
   "outputs": [],
   "source": [
    "DimPlot(int_ova, group.by = \"sample\")"
   ]
  },
  {
   "cell_type": "code",
   "execution_count": null,
   "id": "6f382d62",
   "metadata": {},
   "outputs": [],
   "source": [
    "int_ova <- split(int_ova, f = int_ova$sample)"
   ]
  },
  {
   "cell_type": "code",
   "execution_count": null,
   "id": "6c69bafc",
   "metadata": {},
   "outputs": [],
   "source": [
    "int_ova <- NormalizeData(int_ova)\n",
    "int_ova <- FindVariableFeatures(int_ova)\n",
    "int_ova <- ScaleData(int_ova)\n",
    "int_ova <- RunPCA(int_ova)"
   ]
  },
  {
   "cell_type": "code",
   "execution_count": null,
   "id": "e0f7e439",
   "metadata": {},
   "outputs": [],
   "source": [
    "int_ova <- IntegrateLayers(\n",
    "  object = int_ova, method = HarmonyIntegration,\n",
    "  orig.reduction = \"pca\", new.reduction = \"harmony\",\n",
    "  verbose = FALSE\n",
    ")"
   ]
  },
  {
   "cell_type": "code",
   "execution_count": null,
   "id": "97d3913b",
   "metadata": {
    "scrolled": true
   },
   "outputs": [],
   "source": [
    "int_ova <- RunUMAP(int_ova, reduction = \"harmony\", dims = 1:30, reduction.name = \"umap.harmony\")"
   ]
  },
  {
   "cell_type": "code",
   "execution_count": null,
   "id": "1b0fc4a7",
   "metadata": {},
   "outputs": [],
   "source": [
    "DimPlot(int_ova, group.by = \"sample\", reduction = \"umap.harmony\")"
   ]
  },
  {
   "cell_type": "code",
   "execution_count": null,
   "id": "7ccf9871",
   "metadata": {},
   "outputs": [],
   "source": [
    "FeaturePlot(int_ova, features = c(\"CD79A\",\"MS4A1\",\"JCHAIN\",\"FCER2\"), reduction = \"umap.harmony\")"
   ]
  },
  {
   "cell_type": "code",
   "execution_count": null,
   "id": "48f62159",
   "metadata": {},
   "outputs": [],
   "source": [
    "FeaturePlot(int_ova, features = c(\"CD8A\",\"CD4\",\"LCK\",\"CD3D\"), reduction = \"umap.harmony\")"
   ]
  },
  {
   "cell_type": "code",
   "execution_count": null,
   "id": "03db88fe",
   "metadata": {},
   "outputs": [],
   "source": [
    "FeaturePlot(int_ova, features = c(\"CEACAM1\",\"EGFR\",\"EPCAM\",\"KRAS\"), reduction = \"umap.harmony\")"
   ]
  },
  {
   "cell_type": "code",
   "execution_count": null,
   "id": "ea3a071a",
   "metadata": {},
   "outputs": [],
   "source": [
    "options(repr.plot.width = 24, repr.plot.height = 8)\n",
    "FeaturePlot(int_ova, features = c('KLRB1','KLRC1','KLRD1','KLRF1','KLRK1',\n",
    "                                  \"NCAM1\",\"NKG7\",\"EOMES\",\n",
    "                                  'GNLY','GZMA','GZMB','GZMH','GZMK'), reduction = \"umap.harmony\", ncol = 7)"
   ]
  },
  {
   "cell_type": "code",
   "execution_count": null,
   "id": "92dfe619",
   "metadata": {},
   "outputs": [],
   "source": [
    "rm(int_ova, hgsoc_1_b, hgsoc_1_b_ds, hgsoc_2_a, hgsoc_2_a_ds, nsclc_1B_ds, nsclc_2_a_ds)"
   ]
  },
  {
   "cell_type": "code",
   "execution_count": null,
   "id": "5803c563",
   "metadata": {},
   "outputs": [],
   "source": [
    "gc()"
   ]
  },
  {
   "cell_type": "markdown",
   "id": "5cf09bce",
   "metadata": {},
   "source": [
    "# Lung cancer "
   ]
  },
  {
   "cell_type": "markdown",
   "id": "b71e4c0c",
   "metadata": {},
   "source": [
    "## Full object integration"
   ]
  },
  {
   "cell_type": "code",
   "execution_count": null,
   "id": "e79a0044",
   "metadata": {},
   "outputs": [],
   "source": [
    "int_lung  <- merge(nsclc_2_a, nsclc_1B)"
   ]
  },
  {
   "cell_type": "code",
   "execution_count": null,
   "id": "1a98b6cb",
   "metadata": {
    "scrolled": true
   },
   "outputs": [],
   "source": [
    "int_lung <- SCTransform(int_lung, assay = \"Xenium\")\n",
    "int_lung <- RunPCA(int_lung, npcs = 30, features = rownames(int_lung))\n",
    "int_lung <- RunUMAP(int_lung, dims = 1:30)\n",
    "int_lung <- FindNeighbors(int_lung, reduction = \"pca\", dims = 1:30)\n",
    "int_lung <- FindClusters(int_lung, resolution = 0.3)"
   ]
  },
  {
   "cell_type": "code",
   "execution_count": null,
   "id": "8cfb8cbc",
   "metadata": {},
   "outputs": [],
   "source": [
    "head(colnames(int_lung))"
   ]
  },
  {
   "cell_type": "code",
   "execution_count": null,
   "id": "c2164492",
   "metadata": {},
   "outputs": [],
   "source": [
    "tail(colnames(int_lung))"
   ]
  },
  {
   "cell_type": "code",
   "execution_count": null,
   "id": "dada915c",
   "metadata": {},
   "outputs": [],
   "source": [
    "int_lung$sample  <- substr(colnames(int_lung),12,12)"
   ]
  },
  {
   "cell_type": "code",
   "execution_count": null,
   "id": "be7cab87",
   "metadata": {},
   "outputs": [],
   "source": [
    "nsclc_2_a\n",
    "nsclc_1B"
   ]
  },
  {
   "cell_type": "code",
   "execution_count": null,
   "id": "07146800",
   "metadata": {},
   "outputs": [],
   "source": [
    "int_lung$sample  <- ifelse(int_lung$sample == 1, \"nsclc_2_a\",\"nsclc_1B\")"
   ]
  },
  {
   "cell_type": "code",
   "execution_count": null,
   "id": "971bb3ca",
   "metadata": {},
   "outputs": [],
   "source": [
    "int_lung$sample  %>% table"
   ]
  },
  {
   "cell_type": "code",
   "execution_count": null,
   "id": "49b20adc",
   "metadata": {},
   "outputs": [],
   "source": [
    "DimPlot(int_lung, group.by = \"seurat_clusters\", label = TRUE, label.size = 8)"
   ]
  },
  {
   "cell_type": "code",
   "execution_count": null,
   "id": "c9b608f0",
   "metadata": {},
   "outputs": [],
   "source": [
    "DimPlot(int_lung, group.by = \"sample\", label = TRUE, label.size = 8)"
   ]
  },
  {
   "cell_type": "code",
   "execution_count": null,
   "id": "acbde078",
   "metadata": {},
   "outputs": [],
   "source": [
    "VlnPlot(int_lung, features =  c(\"nFeature_Xenium\", \"nCount_Xenium\"), pt.size = 0)"
   ]
  },
  {
   "cell_type": "code",
   "execution_count": null,
   "id": "e49b5797",
   "metadata": {},
   "outputs": [],
   "source": [
    "int_lung$keep  <- ifelse(int_lung$seurat_clusters %in% c(19,22),\"Remove\",\"Keep\")"
   ]
  },
  {
   "cell_type": "code",
   "execution_count": null,
   "id": "59ee28a1",
   "metadata": {},
   "outputs": [],
   "source": [
    "DimPlot(int_lung, group.by = \"keep\", cols = c(\"grey88\",'red'))"
   ]
  },
  {
   "cell_type": "code",
   "execution_count": null,
   "id": "d66c008b",
   "metadata": {},
   "outputs": [],
   "source": [
    "ggplot(data.frame(nCount_Xenium = int_lung$nCount_Xenium,\n",
    "                  nFeature_Xenium = int_lung$nFeature_Xenium,\n",
    "                  seurat_clusters = int_lung$seurat_clusters,\n",
    "                        exclude = ifelse(int_lung$keep == \"Keep\", \"Keep\", \"Remove\")), \n",
    "       aes(x = seurat_clusters, y = nFeature_Xenium)) +\n",
    "  geom_violin(scale = \"width\", aes(fill = exclude)) + \n",
    "  ggtitle(\"Excluded clusters of low quality cells\") + \n",
    "  theme_classic() +\n",
    "  scale_fill_manual(values = c(\"white\",\"red\")) +\n",
    "  theme(panel.background = element_blank(), \n",
    "        axis.text.x = element_text(angle = 0, hjust = 1))"
   ]
  },
  {
   "cell_type": "code",
   "execution_count": null,
   "id": "4335e9e8",
   "metadata": {},
   "outputs": [],
   "source": [
    "int_lung$keep  %>% table"
   ]
  },
  {
   "cell_type": "code",
   "execution_count": null,
   "id": "0389ae4c",
   "metadata": {},
   "outputs": [],
   "source": [
    "table(int_lung$keep, int_lung$sample)"
   ]
  },
  {
   "cell_type": "code",
   "execution_count": null,
   "id": "e666e517",
   "metadata": {},
   "outputs": [],
   "source": [
    "saveRDS(int_lung, \"./datasets/lung_integrated_full.rds\")"
   ]
  },
  {
   "cell_type": "code",
   "execution_count": null,
   "id": "c0ac0919",
   "metadata": {},
   "outputs": [],
   "source": [
    "int_lung  <- subset(int_lung, keep == \"Keep\")"
   ]
  },
  {
   "cell_type": "code",
   "execution_count": null,
   "id": "afd6ee98",
   "metadata": {
    "scrolled": true
   },
   "outputs": [],
   "source": [
    "DimPlot(int_lung)"
   ]
  },
  {
   "cell_type": "code",
   "execution_count": null,
   "id": "44d4dd4a",
   "metadata": {},
   "outputs": [],
   "source": [
    "DimPlot(int_lung, group.by = \"sample\")"
   ]
  },
  {
   "cell_type": "code",
   "execution_count": null,
   "id": "e3b2a45d",
   "metadata": {},
   "outputs": [],
   "source": [
    "rm(nsclc_1B)\n",
    "rm(nsclc_2_a)\n"
   ]
  },
  {
   "cell_type": "code",
   "execution_count": null,
   "id": "939776fb",
   "metadata": {},
   "outputs": [],
   "source": [
    "gc()"
   ]
  },
  {
   "cell_type": "code",
   "execution_count": null,
   "id": "5b937f8a",
   "metadata": {},
   "outputs": [],
   "source": [
    "int_lung <- split(int_lung, f = int_lung$sample)"
   ]
  },
  {
   "cell_type": "code",
   "execution_count": null,
   "id": "2dffd6bf",
   "metadata": {},
   "outputs": [],
   "source": [
    "int_lung <- NormalizeData(int_lung)\n",
    "int_lung <- FindVariableFeatures(int_lung)\n",
    "int_lung <- ScaleData(int_lung)\n",
    "int_lung <- RunPCA(int_lung)"
   ]
  },
  {
   "cell_type": "code",
   "execution_count": null,
   "id": "ed388d15",
   "metadata": {},
   "outputs": [],
   "source": [
    "int_lung"
   ]
  },
  {
   "cell_type": "code",
   "execution_count": null,
   "id": "b098b971",
   "metadata": {},
   "outputs": [],
   "source": [
    "int_lung <- IntegrateLayers(\n",
    "  object = int_lung, method = HarmonyIntegration,\n",
    "  orig.reduction = \"pca\", new.reduction = \"harmony\",\n",
    "  verbose = FALSE\n",
    ")"
   ]
  },
  {
   "cell_type": "code",
   "execution_count": null,
   "id": "3474f073",
   "metadata": {
    "scrolled": true
   },
   "outputs": [],
   "source": [
    "int_lung <- RunUMAP(int_lung, reduction = \"harmony\", dims = 1:30, reduction.name = \"umap.harmony\")"
   ]
  },
  {
   "cell_type": "code",
   "execution_count": null,
   "id": "117dee8a",
   "metadata": {},
   "outputs": [],
   "source": [
    "FeaturePlot(int_lung, features = c(\"CD79A\",\"MS4A1\",\"JCHAIN\",\"FCER2\"), reduction = \"umap.harmony\")"
   ]
  },
  {
   "cell_type": "code",
   "execution_count": null,
   "id": "2f88a20e",
   "metadata": {},
   "outputs": [],
   "source": [
    "FeaturePlot(int_lung, features = c(\"CD8A\",\"CD4\",\"LCK\",\"CD3D\"), reduction = \"umap.harmony\")"
   ]
  },
  {
   "cell_type": "code",
   "execution_count": null,
   "id": "379c8477",
   "metadata": {},
   "outputs": [],
   "source": [
    "FeaturePlot(int_lung, features = c(\"CEACAM1\",\"EGFR\",\"EPCAM\",\"KRAS\"), reduction = \"umap.harmony\")"
   ]
  },
  {
   "cell_type": "code",
   "execution_count": null,
   "id": "ec6e2ddc",
   "metadata": {},
   "outputs": [],
   "source": [
    "options(repr.plot.width = 24, repr.plot.height = 8)\n",
    "FeaturePlot(int_lung, features = c('KLRB1','KLRC1','KLRD1','KLRF1','KLRK1',\n",
    "                                  \"NCAM1\",\"NKG7\",\"EOMES\",\n",
    "                                  'GNLY','GZMA','GZMB','GZMH','GZMK'), reduction = \"umap.harmony\", ncol = 7)"
   ]
  },
  {
   "cell_type": "code",
   "execution_count": null,
   "id": "b65a98d5",
   "metadata": {},
   "outputs": [],
   "source": [
    "saveRDS(int_lung, \"./datasets/lung_integrated_full_filt_harmony.rds\")"
   ]
  },
  {
   "cell_type": "code",
   "execution_count": null,
   "id": "4c5d66b9",
   "metadata": {},
   "outputs": [],
   "source": [
    "rm(int_lung)\n",
    "gc()"
   ]
  },
  {
   "cell_type": "code",
   "execution_count": null,
   "id": "f74e7fcd",
   "metadata": {},
   "outputs": [],
   "source": []
  },
  {
   "cell_type": "code",
   "execution_count": null,
   "id": "29c1906e",
   "metadata": {},
   "outputs": [],
   "source": [
    "int_lung  <- readRDS(\"./datasets/lung_integrated_full_filt_harmony.rds\")"
   ]
  },
  {
   "cell_type": "code",
   "execution_count": null,
   "id": "ccba42e5",
   "metadata": {},
   "outputs": [],
   "source": [
    "DimPlot(int_lung, reduction = \"umap.harmony\", label  = T, label.size = 8)"
   ]
  },
  {
   "cell_type": "code",
   "execution_count": null,
   "id": "c2baa355",
   "metadata": {},
   "outputs": [],
   "source": [
    "VlnPlot(int_lung, features =  c(\"nFeature_Xenium\", \"nCount_Xenium\"), pt.size = 0)"
   ]
  },
  {
   "cell_type": "code",
   "execution_count": null,
   "id": "8efb2a3f",
   "metadata": {},
   "outputs": [],
   "source": [
    "VlnPlot(int_lung, features =  c(\"CD3D\", \"LCK\"), pt.size = 0)"
   ]
  },
  {
   "cell_type": "code",
   "execution_count": null,
   "id": "9b9fd95d",
   "metadata": {},
   "outputs": [],
   "source": []
  },
  {
   "cell_type": "code",
   "execution_count": null,
   "id": "0da1d02e",
   "metadata": {
    "scrolled": true
   },
   "outputs": [],
   "source": [
    "int_lung <- RunUMAP(int_lung, reduction = \"harmony\", dims = 1:30, reduction.name = \"umap.harmony\")"
   ]
  },
  {
   "cell_type": "code",
   "execution_count": null,
   "id": "88c9ba1d",
   "metadata": {},
   "outputs": [],
   "source": [
    "DimPlot(int_lung, reduction = \"umap.harmony\")"
   ]
  },
  {
   "cell_type": "code",
   "execution_count": null,
   "id": "86806ce1",
   "metadata": {},
   "outputs": [],
   "source": [
    "FeaturePlot(int_lung, features = c(\"CD79A\",\"MS4A1\",\"JCHAIN\",\"FCER2\"), reduction = \"umap.harmony\")"
   ]
  },
  {
   "cell_type": "code",
   "execution_count": null,
   "id": "fa45e3e8",
   "metadata": {},
   "outputs": [],
   "source": [
    "FeaturePlot(int_lung, features = c(\"CD8A\",\"CD4\",\"LCK\",\"CD3D\"), reduction = \"umap.harmony\")"
   ]
  },
  {
   "cell_type": "code",
   "execution_count": null,
   "id": "795dca19",
   "metadata": {},
   "outputs": [],
   "source": [
    "FeaturePlot(int_lung, features = c(\"CEACAM1\",\"EGFR\",\"EPCAM\",\"KRAS\"), reduction = \"umap.harmony\")"
   ]
  },
  {
   "cell_type": "code",
   "execution_count": null,
   "id": "c89e2674",
   "metadata": {},
   "outputs": [],
   "source": []
  },
  {
   "cell_type": "code",
   "execution_count": null,
   "id": "df86ed8e",
   "metadata": {
    "scrolled": true
   },
   "outputs": [],
   "source": [
    "options(repr.plot.width = 40, repr.plot.height = 30)\n",
    "FeaturePlot(int_lung, features = c('KLRB1','KLRC1','KLRD1','KLRF1','KLRK1',\n",
    "                                  \"NCAM1\",\"NKG7\",\"EOMES\",\n",
    "                                  'GNLY','GZMA','GZMB','GZMH','GZMK', \"CD3D\",\"NCR1\"), reduction = \"umap.harmony\", ncol = 4)"
   ]
  },
  {
   "cell_type": "code",
   "execution_count": null,
   "id": "5854765f",
   "metadata": {},
   "outputs": [],
   "source": [
    "int_lung  <- FindNeighbors(int_lung)"
   ]
  },
  {
   "cell_type": "code",
   "execution_count": null,
   "id": "106e4af2",
   "metadata": {},
   "outputs": [],
   "source": [
    "int_lung  <- FindClusters(int_lung, resolution = 0.2)"
   ]
  },
  {
   "cell_type": "code",
   "execution_count": null,
   "id": "a636e4a1",
   "metadata": {},
   "outputs": [],
   "source": [
    "options(repr.plot.width = 16, repr.plot.height = 9)\n",
    "\n",
    "DimPlot(int_lung, reduction = \"umap.harmony\", label = T, label.size = 8)"
   ]
  },
  {
   "cell_type": "code",
   "execution_count": null,
   "id": "6a60b750",
   "metadata": {},
   "outputs": [],
   "source": [
    "FeaturePlot(int_lung, features = c(\"KLRF1\",\"GNLY\",\"CD3D\",\"EPCAM\"), reduction = \"umap.harmony\")"
   ]
  },
  {
   "cell_type": "markdown",
   "id": "75eabfc2",
   "metadata": {},
   "source": [
    "## Annotation of cell types"
   ]
  },
  {
   "cell_type": "code",
   "execution_count": null,
   "id": "91b5db79",
   "metadata": {},
   "outputs": [],
   "source": [
    "mid.se <- celldex::MonacoImmuneData()\n",
    "hpca.se  <- celldex::HumanPrimaryCellAtlasData()\n",
    "\n"
   ]
  },
  {
   "cell_type": "code",
   "execution_count": null,
   "id": "a8b37653",
   "metadata": {},
   "outputs": [],
   "source": [
    "int_lung"
   ]
  },
  {
   "cell_type": "code",
   "execution_count": null,
   "id": "36a4a321",
   "metadata": {},
   "outputs": [],
   "source": [
    "int_lung  <- JoinLayers(int_lung)"
   ]
  },
  {
   "cell_type": "code",
   "execution_count": null,
   "id": "74e73f39",
   "metadata": {},
   "outputs": [],
   "source": [
    " DefaultAssay(int_lung)  <- \"SCT\"\n",
    "\t\n",
    "    ### Annotate the dataset with Monaco Immune dataset\n",
    "counts  <- int_lung@assays$SCT@layers$counts"
   ]
  },
  {
   "cell_type": "code",
   "execution_count": null,
   "id": "0bf700c7",
   "metadata": {},
   "outputs": [],
   "source": [
    "rownames(counts)  <- rownames(int_lung@assays$SCT)"
   ]
  },
  {
   "cell_type": "code",
   "execution_count": null,
   "id": "31fd12ba",
   "metadata": {},
   "outputs": [],
   "source": [
    "\t\tpred.singler <- SingleR(test = counts, ref = mid.se, assay.type.test=1,\n",
    "\t\tlabels = mid.se$label.fine, fine.tune = F)\n",
    "    \n",
    "\n",
    "    \t### Annotate the dataset with Wherry dataset\n",
    "        pred.singler3 <- SingleR(test =  counts, ref = hpca.se,\n",
    "\t\tassay.type.test=1,\n",
    "\t\tlabels = hpca.se$label.fine, fine.tune = F)\n",
    "\n",
    "\t\tall_labels <- data.frame(\n",
    "\t\tMonaco_single = pred.singler$labels,\n",
    "\t\tHPCA_single = pred.singler3$labels,\n",
    "\t\t\n",
    "\t\tbarcode = colnames(int_lung))\n",
    "\t\t\n",
    "\t\tmd2 <- int_lung@meta.data\n",
    "\t\tmd2$barcode = colnames(int_lung)\n",
    "\n",
    "\t\tmd3 <- left_join(md2, all_labels)\n",
    "rownames(md3) <- colnames(int_lung)\n",
    "\t\tint_lung@meta.data <- md3\n",
    "\t\t"
   ]
  },
  {
   "cell_type": "code",
   "execution_count": null,
   "id": "48484342",
   "metadata": {},
   "outputs": [],
   "source": [
    "prediction_monaco  <- pred.singler$scores  %>% as.data.frame()"
   ]
  },
  {
   "cell_type": "code",
   "execution_count": null,
   "id": "78b68ff9",
   "metadata": {},
   "outputs": [],
   "source": [
    "prediction_monaco$cluster  <- unname(int_lung$seurat_clusters)"
   ]
  },
  {
   "cell_type": "code",
   "execution_count": null,
   "id": "982ccc7d",
   "metadata": {},
   "outputs": [],
   "source": [
    "options(repr.plot.width = 20, repr.plot.height = 7.5)\n",
    "DimPlot(int_lung, raster = F, group.by = \"Monaco_single\", label = F, repel = T, reduction = \"umap.harmony\")"
   ]
  },
  {
   "cell_type": "code",
   "execution_count": null,
   "id": "6b2024bb",
   "metadata": {},
   "outputs": [],
   "source": []
  },
  {
   "cell_type": "code",
   "execution_count": null,
   "id": "562d8ece",
   "metadata": {},
   "outputs": [],
   "source": [
    "DimPlot(int_lung, raster = F, \n",
    "        cells.highlight = colnames(subset(int_lung, Monaco_single == \"Natural killer cells\")),\n",
    "        reduction = \"umap.harmony\")"
   ]
  },
  {
   "cell_type": "code",
   "execution_count": null,
   "id": "2b1746f8",
   "metadata": {},
   "outputs": [],
   "source": [
    "prediction_monaco  <- prediction_monaco  %>% pivot_longer(!cluster, \n",
    "                                                          names_to = \"annotation\", values_to = \"score\")"
   ]
  },
  {
   "cell_type": "code",
   "execution_count": null,
   "id": "ce82f04d",
   "metadata": {},
   "outputs": [],
   "source": [
    "options(repr.plot.width = 17, repr.plot.height = 10)\n",
    "\n",
    "ggplot(prediction_monaco, aes(x = cluster, y = score)) +\n",
    "  geom_violin(scale = \"width\", aes(fill = cluster)) +\n",
    "  facet_wrap(~annotation, ncol = 8) +\n",
    "  ggtitle(\"Cluster annotations - Monaco Immune Database\") + \n",
    "  theme_classic() +\n",
    "  theme(panel.background = element_blank(), \n",
    "        axis.text.x = element_text(angle = 0, hjust = 1))"
   ]
  },
  {
   "cell_type": "code",
   "execution_count": null,
   "id": "0d116103",
   "metadata": {
    "scrolled": true
   },
   "outputs": [],
   "source": [
    "options(repr.plot.width = 40, repr.plot.height = 10)\n",
    "DimPlot(int_lung, raster = F, group.by = \"HPCA_single\", label = F, reduction = \"umap.harmony\")"
   ]
  },
  {
   "cell_type": "code",
   "execution_count": null,
   "id": "e44e2af3",
   "metadata": {},
   "outputs": [],
   "source": [
    "int_lung$HPCA_single  %>% table"
   ]
  },
  {
   "cell_type": "code",
   "execution_count": null,
   "id": "92a2b1fe",
   "metadata": {},
   "outputs": [],
   "source": [
    "int_lung$hpca_nk_cell  <- ifelse(grepl(int_lung$HPCA_single, pattern = \"NK_cell\"), \n",
    "       int_lung$HPCA_single, \"Other\") "
   ]
  },
  {
   "cell_type": "code",
   "execution_count": null,
   "id": "81298ed3",
   "metadata": {},
   "outputs": [],
   "source": [
    "int_lung$hpca_nk_cell  %>% table"
   ]
  },
  {
   "cell_type": "code",
   "execution_count": null,
   "id": "9371e09e",
   "metadata": {},
   "outputs": [],
   "source": [
    "DimPlot(int_lung, group.by = \"hpca_nk_cell\", reduction = \"umap.harmony\", cols = c(\"red\",\"blue\",\"green\",\"grey88\"))"
   ]
  },
  {
   "cell_type": "code",
   "execution_count": null,
   "id": "86f05e2f",
   "metadata": {
    "scrolled": true
   },
   "outputs": [],
   "source": [
    "DimPlot(int_lung, raster = F, \n",
    "        cells.highlight = colnames(subset(int_lung, hpca_nk_cell == \"NK_cell\")),\n",
    "        reduction = \"umap.harmony\")"
   ]
  },
  {
   "cell_type": "code",
   "execution_count": null,
   "id": "a269559a",
   "metadata": {
    "scrolled": true
   },
   "outputs": [],
   "source": [
    "DimPlot(int_lung, raster = F, \n",
    "        cells.highlight = colnames(subset(int_lung, hpca_nk_cell == \"NK_cell:IL2\")),\n",
    "        reduction = \"umap.harmony\")"
   ]
  },
  {
   "cell_type": "code",
   "execution_count": null,
   "id": "2e26c24e",
   "metadata": {},
   "outputs": [],
   "source": [
    "saveRDS(int_lung, \"./datasets//lung_integrated_full_filt_harmony.rds\")"
   ]
  },
  {
   "cell_type": "code",
   "execution_count": null,
   "id": "6b4baef0",
   "metadata": {},
   "outputs": [],
   "source": [
    "reduced_annot  <- function(seurat_object, tier_name, n_cells_to_other){\n",
    "    md  <- seurat_object@meta.data\n",
    "    tier_name_red  <- paste0(tier_name,\"_red\")\n",
    "    cell_types_keep  <- (md  %>% group_by_at(tier_name)  %>% tally()  %>% arrange(desc(n)) %>% dplyr::filter(n > n_cells_to_other))[[tier_name]]\n",
    "    md[[tier_name_red]]  <- if_else(md[[tier_name]] %in% cell_types_keep,as.character(md[[tier_name]]),\"Other\")\n",
    "    seurat_object  <- AddMetaData(seurat_object, metadata = md[[tier_name_red]], tier_name_red)\n",
    "    return(seurat_object)\n",
    "}\n"
   ]
  },
  {
   "cell_type": "code",
   "execution_count": null,
   "id": "f2f02466",
   "metadata": {},
   "outputs": [],
   "source": [
    "int_lung$hpca_main  <-  sub(\"\\\\:.*\", \"\", int_lung$HPCA_single)"
   ]
  },
  {
   "cell_type": "code",
   "execution_count": null,
   "id": "26cf33e2",
   "metadata": {},
   "outputs": [],
   "source": [
    "int_lung$hpca_main  %>% table"
   ]
  },
  {
   "cell_type": "code",
   "execution_count": null,
   "id": "191d3bf2",
   "metadata": {},
   "outputs": [],
   "source": [
    "options(repr.plot.width = 19, repr.plot.height = 9)\n",
    "DimPlot(int_lung, group.by = \"hpca_main\", reduction = \"umap.harmony\", label = T)"
   ]
  },
  {
   "cell_type": "code",
   "execution_count": null,
   "id": "53eb9b76",
   "metadata": {},
   "outputs": [],
   "source": [
    "options(repr.plot.width = 16, repr.plot.height = 9)\n",
    "\n",
    "DimPlot(int_lung, reduction = \"umap.harmony\", label = T, label.size = 8)"
   ]
  },
  {
   "cell_type": "code",
   "execution_count": null,
   "id": "af5bd62a",
   "metadata": {
    "scrolled": true
   },
   "outputs": [],
   "source": [
    "FeaturePlot(int_lung,  reduction = \"umap.harmony\",\n",
    "           features = c(\"CD3D\",\"CD19\",\"DCN\",\"FN1\",\"CD68\",\"AIF1\",\"MARCO\",\"VSIG4\"), ncol = 4)"
   ]
  },
  {
   "cell_type": "code",
   "execution_count": null,
   "id": "1588dbaa",
   "metadata": {},
   "outputs": [],
   "source": [
    "options(repr.plot.width = 12, repr.plot.height = 4)\n",
    "DotPlot(int_lung, cols = c(\"dodgerblue\",\"indianred2\"),\n",
    "        features = c(\n",
    "            \"ARID1A\",\"EPCAM\",\"CEACAM8\",\n",
    "            \"CD3D\",\"CD3E\",\"CD8A\",\"CD4\",\n",
    "            \"CD19\",\"BANK1\",\"MS4A1\",\"CD79A\",\n",
    "            \"CD27\",\"CD38\",\n",
    "            \"FN1\",\n",
    "            \"CD68\",\"AIF1\",\"MARCO\",\"VSIG4\",\n",
    "            \"CD1A\",\"CD1C\",\"CD80\",\"CD86\"\n",
    "        )) + theme(axis.text.x = element_text(angle = 90))"
   ]
  },
  {
   "cell_type": "code",
   "execution_count": null,
   "id": "2de7c771",
   "metadata": {},
   "outputs": [],
   "source": [
    "mrk  <- FindAllMarkers(int_lung, only.pos = TRUE, logfc.threshold = log(2))"
   ]
  },
  {
   "cell_type": "code",
   "execution_count": null,
   "id": "39137611",
   "metadata": {},
   "outputs": [],
   "source": [
    "options(repr.plot.width = 8, repr.plot.height = 6.5)\n",
    "dir.create(\"./figures/dimplots/int_lung/\", recursive = T)\n",
    "\n",
    "for(i in rownames(int_lung)){\n",
    "    print(FeaturePlot(int_lung, features = i, min.cutoff = 0, reduction = \"umap.harmony\"))\n",
    "    ggsave(paste0(\"figures/dimplots/int_lung/\",i,\".png\"), width = 13, height = 10, units = \"cm\")\n",
    "}"
   ]
  },
  {
   "cell_type": "markdown",
   "id": "bf0406ee",
   "metadata": {},
   "source": [
    "## Coarse annotations"
   ]
  },
  {
   "cell_type": "code",
   "execution_count": null,
   "id": "c6198c61",
   "metadata": {},
   "outputs": [],
   "source": [
    "int_lung  <- readRDS(\"./datasets/lung_integrated_full_filt_harmony.rds\")"
   ]
  },
  {
   "cell_type": "code",
   "execution_count": null,
   "id": "d4d90bc7",
   "metadata": {},
   "outputs": [],
   "source": [
    "int_lung$annot"
   ]
  },
  {
   "cell_type": "markdown",
   "id": "7e6c7b65",
   "metadata": {},
   "source": [
    "## T NK reclustering"
   ]
  },
  {
   "cell_type": "code",
   "execution_count": null,
   "id": "829cc4d7",
   "metadata": {
    "scrolled": true
   },
   "outputs": [],
   "source": [
    "t_nk_lung  <- subset(int_lung, seurat_clusters == 3)"
   ]
  },
  {
   "cell_type": "code",
   "execution_count": null,
   "id": "33989ea8",
   "metadata": {
    "scrolled": true
   },
   "outputs": [],
   "source": [
    "t_nk_lung <- RunUMAP(t_nk_lung, reduction = \"harmony\", dims = 1:30, reduction.name = \"umap.harmony\")"
   ]
  },
  {
   "cell_type": "code",
   "execution_count": null,
   "id": "f556a919",
   "metadata": {},
   "outputs": [],
   "source": [
    "DimPlot(t_nk_lung, group.by = \"sample\", reduction = \"umap.harmony\")"
   ]
  },
  {
   "cell_type": "code",
   "execution_count": null,
   "id": "f82bdfd9",
   "metadata": {},
   "outputs": [],
   "source": [
    "FeaturePlot(t_nk_lung, features = c(\"CD79A\",\"MS4A1\",\"JCHAIN\",\"FCER2\"), reduction = \"umap.harmony\")"
   ]
  },
  {
   "cell_type": "code",
   "execution_count": null,
   "id": "7c4b3202",
   "metadata": {},
   "outputs": [],
   "source": [
    "FeaturePlot(t_nk_lung, features = c(\"CD8A\",\"CD4\",\"LCK\",\"CD3D\"), reduction = \"umap.harmony\")"
   ]
  },
  {
   "cell_type": "code",
   "execution_count": null,
   "id": "ce5d0117",
   "metadata": {},
   "outputs": [],
   "source": [
    "FeaturePlot(t_nk_lung, features = c(\"CEACAM1\",\"EGFR\",\"EPCAM\",\"KRAS\"), reduction = \"umap.harmony\")"
   ]
  },
  {
   "cell_type": "code",
   "execution_count": null,
   "id": "8f9638c1",
   "metadata": {
    "scrolled": true
   },
   "outputs": [],
   "source": [
    "options(repr.plot.width = 40, repr.plot.height = 30)\n",
    "FeaturePlot(t_nk_lung, features = c('KLRB1','KLRC1','KLRD1','KLRF1','KLRK1',\n",
    "                                  \"NCAM1\",\"NKG7\",\"EOMES\",\n",
    "                                  'GNLY','GZMA','GZMB','GZMH','GZMK', \"CD3D\",\"NCR1\"), reduction = \"umap.harmony\", ncol = 4)"
   ]
  },
  {
   "cell_type": "code",
   "execution_count": null,
   "id": "778240c8",
   "metadata": {},
   "outputs": [],
   "source": [
    "t_nk_lung  <- FindNeighbors(t_nk_lung, reduction = \"harmony\", graph.name = \"umap.harmony.neighbors\")"
   ]
  },
  {
   "cell_type": "code",
   "execution_count": null,
   "id": "9227c857",
   "metadata": {
    "scrolled": true
   },
   "outputs": [],
   "source": [
    "t_nk_lung  <- FindClusters(t_nk_lung, resolution = 0.5, graph.name = \"umap.harmony.neighbors\")"
   ]
  },
  {
   "cell_type": "code",
   "execution_count": null,
   "id": "1e85a03d",
   "metadata": {},
   "outputs": [],
   "source": [
    "options(repr.plot.width = 16, repr.plot.height = 9)\n",
    "\n",
    "DimPlot(t_nk_lung, reduction = \"umap.harmony\", label = T, label.size = 8)"
   ]
  },
  {
   "cell_type": "code",
   "execution_count": null,
   "id": "bf21039a",
   "metadata": {},
   "outputs": [],
   "source": []
  },
  {
   "cell_type": "code",
   "execution_count": null,
   "id": "74654807",
   "metadata": {},
   "outputs": [],
   "source": [
    "t_nk_lung  <- JoinLayers(t_nk_lung)"
   ]
  },
  {
   "cell_type": "code",
   "execution_count": null,
   "id": "f3510985",
   "metadata": {},
   "outputs": [],
   "source": [
    " DefaultAssay(t_nk_lung)  <- \"SCT\"\n",
    "\t\n",
    "    ### Annotate the dataset with Monaco Immune dataset\n",
    "counts  <- t_nk_lung@assays$SCT@layers$counts"
   ]
  },
  {
   "cell_type": "code",
   "execution_count": null,
   "id": "197fc29f",
   "metadata": {},
   "outputs": [],
   "source": [
    "rownames(counts)  <- rownames(t_nk_lung@assays$SCT)"
   ]
  },
  {
   "cell_type": "code",
   "execution_count": null,
   "id": "bde994fb",
   "metadata": {},
   "outputs": [],
   "source": [
    "\t\tpred.singler <- SingleR(test = counts, ref = mid.se, assay.type.test=1,\n",
    "\t\tlabels = mid.se$label.fine, fine.tune = F)\n",
    "    \n",
    "\n",
    "    \t### Annotate the dataset with Wherry dataset\n",
    "        pred.singler3 <- SingleR(test =  counts, ref = hpca.se,\n",
    "\t\tassay.type.test=1,\n",
    "\t\tlabels = hpca.se$label.fine, fine.tune = F)\n",
    "\n",
    "\t\tall_labels <- data.frame(\n",
    "\t\tMonaco_single = pred.singler$labels,\n",
    "\t\tHPCA_single = pred.singler3$labels,\n",
    "\t\t\n",
    "\t\tbarcode = colnames(t_nk_lung))\n",
    "\t\t\n",
    "\t\tmd2 <- t_nk_lung@meta.data\n",
    "\t\tmd2$barcode = colnames(t_nk_lung)\n",
    "\n",
    "\t\tmd3 <- left_join(md2, all_labels)\n",
    "rownames(md3) <- colnames(t_nk_lung)\n",
    "\t\tt_nk_lung@meta.data <- md3\n",
    "\t\t"
   ]
  },
  {
   "cell_type": "code",
   "execution_count": null,
   "id": "df637422",
   "metadata": {},
   "outputs": [],
   "source": [
    "prediction_monaco  <- pred.singler$scores  %>% as.data.frame()"
   ]
  },
  {
   "cell_type": "code",
   "execution_count": null,
   "id": "cf1a376d",
   "metadata": {},
   "outputs": [],
   "source": [
    "prediction_monaco$cluster  <- unname(t_nk_lung$seurat_clusters)"
   ]
  },
  {
   "cell_type": "code",
   "execution_count": null,
   "id": "b284dada",
   "metadata": {},
   "outputs": [],
   "source": [
    "options(repr.plot.width = 20, repr.plot.height = 7.5)\n",
    "DimPlot(t_nk_lung, raster = F, group.by = \"Monaco_single\", label = F, repel = T, reduction = \"umap.harmony\")"
   ]
  },
  {
   "cell_type": "code",
   "execution_count": null,
   "id": "42ce9feb",
   "metadata": {},
   "outputs": [],
   "source": [
    "DimPlot(t_nk_lung, raster = F, \n",
    "        cells.highlight = colnames(subset(t_nk_lung, Monaco_single == \"Natural killer cells\")),\n",
    "        reduction = \"umap.harmony\")"
   ]
  },
  {
   "cell_type": "code",
   "execution_count": null,
   "id": "86dcd36e",
   "metadata": {},
   "outputs": [],
   "source": [
    "t_nk_lung$hpca_nk_cell  <- ifelse(grepl(t_nk_lung$HPCA_single, pattern = \"NK_cell\"), \n",
    "       t_nk_lung$HPCA_single, \"Other\") "
   ]
  },
  {
   "cell_type": "code",
   "execution_count": null,
   "id": "5d24e3af",
   "metadata": {},
   "outputs": [],
   "source": [
    "t_nk_lung$hpca_nk_cell  %>% table"
   ]
  },
  {
   "cell_type": "code",
   "execution_count": null,
   "id": "7efed020",
   "metadata": {},
   "outputs": [],
   "source": [
    "DimPlot(t_nk_lung, group.by = \"hpca_nk_cell\", reduction = \"umap.harmony\", cols = c(\"red\",\"blue\",\"green\",\"grey88\"))"
   ]
  },
  {
   "cell_type": "code",
   "execution_count": null,
   "id": "d6884dad",
   "metadata": {
    "scrolled": true
   },
   "outputs": [],
   "source": [
    "DimPlot(t_nk_lung, raster = F, \n",
    "        cells.highlight = colnames(subset(t_nk_lung, hpca_nk_cell == \"NK_cell\")),\n",
    "        reduction = \"umap.harmony\")"
   ]
  },
  {
   "cell_type": "code",
   "execution_count": null,
   "id": "e4b181c8",
   "metadata": {
    "scrolled": true
   },
   "outputs": [],
   "source": [
    "DimPlot(t_nk_lung, raster = F, \n",
    "        cells.highlight = colnames(subset(t_nk_lung, hpca_nk_cell == \"NK_cell:CD56hiCD62L+\")),\n",
    "        reduction = \"umap.harmony\")"
   ]
  },
  {
   "cell_type": "code",
   "execution_count": null,
   "id": "0a832fdf",
   "metadata": {
    "scrolled": true
   },
   "outputs": [],
   "source": [
    "DimPlot(t_nk_lung, raster = F, \n",
    "        cells.highlight = colnames(subset(t_nk_lung, hpca_nk_cell == \"NK_cell:IL2\")),\n",
    "        reduction = \"umap.harmony\")"
   ]
  },
  {
   "cell_type": "code",
   "execution_count": null,
   "id": "db1d4aab",
   "metadata": {},
   "outputs": [],
   "source": [
    "is_nk_cell  <- ifelse(grepl(t_nk_lung$Monaco_single, pattern = \"Natural\") |\n",
    "                      grepl(t_nk_lung$hpca_nk_cell, pattern = \"NK\"), \"NK_cell\",\"Other\")"
   ]
  },
  {
   "cell_type": "code",
   "execution_count": null,
   "id": "77dfa4d8",
   "metadata": {},
   "outputs": [],
   "source": [
    "is_nk_cell  %>% table"
   ]
  },
  {
   "cell_type": "code",
   "execution_count": null,
   "id": "508819d8",
   "metadata": {},
   "outputs": [],
   "source": [
    "t_nk_lung$is_nk_cell  <- is_nk_cell"
   ]
  },
  {
   "cell_type": "code",
   "execution_count": null,
   "id": "deb6f57d",
   "metadata": {},
   "outputs": [],
   "source": [
    "DimPlot(t_nk_lung, group.by = \"is_nk_cell\", reduction = \"umap.harmony\")"
   ]
  },
  {
   "cell_type": "code",
   "execution_count": null,
   "id": "c296f270",
   "metadata": {},
   "outputs": [],
   "source": [
    "VlnPlot(t_nk_lung, c(\"CD3D\",\"KLRK1\",\"GZMA\",\"CD8A\",\"CD3E\",\"KLRG1\"), group.by = \"is_nk_cell\", pt.size = 0)"
   ]
  },
  {
   "cell_type": "markdown",
   "id": "2b7626b7",
   "metadata": {},
   "source": [
    "## T NK subset"
   ]
  },
  {
   "cell_type": "code",
   "execution_count": null,
   "id": "d87aae98",
   "metadata": {},
   "outputs": [],
   "source": [
    "nk_lung  <- subset(t_nk_lung, is_nk_cell == \"NK_cell\")"
   ]
  },
  {
   "cell_type": "code",
   "execution_count": null,
   "id": "4a8d8d0f",
   "metadata": {
    "scrolled": true
   },
   "outputs": [],
   "source": [
    "nk_lung <- RunUMAP(nk_lung, reduction = \"harmony\", dims = 1:30, reduction.name = \"umap.harmony\")"
   ]
  },
  {
   "cell_type": "code",
   "execution_count": null,
   "id": "bbeb6630",
   "metadata": {},
   "outputs": [],
   "source": [
    "DimPlot(nk_lung, group.by = \"sample\", reduction = \"umap.harmony\")"
   ]
  },
  {
   "cell_type": "code",
   "execution_count": null,
   "id": "9f38711d",
   "metadata": {},
   "outputs": [],
   "source": [
    "options(repr.plot.width = 12, repr.plot.height = 8)\n",
    "FeaturePlot(nk_lung, features = c(\"GZMB\",\"GZMA\",\"GNLY\",\"GZMK\"), reduction = \"umap.harmony\")"
   ]
  },
  {
   "cell_type": "code",
   "execution_count": null,
   "id": "548a53b2",
   "metadata": {},
   "outputs": [],
   "source": [
    "FeaturePlot(nk_lung, features = c(\"HAVCR2\",\"PDCD1\",\"KLRC1\",\"KLRB1\"), reduction = \"umap.harmony\")"
   ]
  },
  {
   "cell_type": "code",
   "execution_count": null,
   "id": "94de3ac6",
   "metadata": {},
   "outputs": [],
   "source": [
    "\n",
    "FeaturePlot(nk_lung, features = c(\"CST7\",\"PRF1\",\"IL2RB\",\"EOMES\"), reduction = \"umap.harmony\")"
   ]
  },
  {
   "cell_type": "code",
   "execution_count": null,
   "id": "5677bc93",
   "metadata": {},
   "outputs": [],
   "source": [
    "nk_lung  <- FindNeighbors(nk_lung, reduction = \"harmony\", graph.name = \"umap.harmony.neighbors\")"
   ]
  },
  {
   "cell_type": "code",
   "execution_count": null,
   "id": "edd2a988",
   "metadata": {
    "scrolled": true
   },
   "outputs": [],
   "source": [
    "nk_lung  <- FindClusters(nk_lung, resolution = 0.5, graph.name = \"umap.harmony.neighbors\")"
   ]
  },
  {
   "cell_type": "code",
   "execution_count": null,
   "id": "651d8598",
   "metadata": {},
   "outputs": [],
   "source": [
    "options(repr.plot.width = 16, repr.plot.height = 9)\n",
    "\n",
    "DimPlot(nk_lung, reduction = \"umap.harmony\", label = T, label.size = 8)"
   ]
  },
  {
   "cell_type": "code",
   "execution_count": null,
   "id": "defcef77",
   "metadata": {},
   "outputs": [],
   "source": [
    "int_lung$is_nk  <- ifelse(colnames(int_lung) %in% colnames(nk_lung), \"NK_cell\",\"Other\")"
   ]
  },
  {
   "cell_type": "code",
   "execution_count": null,
   "id": "9b287e14",
   "metadata": {},
   "outputs": [],
   "source": [
    "DimPlot(int_lung, group.by = \"is_nk\", cols = c(\"red\",\"grey88\"), reduction = \"umap.harmony\")"
   ]
  },
  {
   "cell_type": "code",
   "execution_count": null,
   "id": "040faa03",
   "metadata": {},
   "outputs": [],
   "source": [
    "saveRDS(t_nk_lung, \"./datasets/lung_integrated_t_nk.rds\")"
   ]
  },
  {
   "cell_type": "code",
   "execution_count": null,
   "id": "709efa7b",
   "metadata": {},
   "outputs": [],
   "source": [
    "saveRDS(int_lung, \"./datasets/lung_integrated_full_filt.rds\")"
   ]
  },
  {
   "cell_type": "code",
   "execution_count": null,
   "id": "749c26cf",
   "metadata": {},
   "outputs": [],
   "source": [
    "rm(int_lung)"
   ]
  },
  {
   "cell_type": "markdown",
   "id": "0879a8ee",
   "metadata": {},
   "source": [
    "# Ovarian cancer"
   ]
  },
  {
   "cell_type": "markdown",
   "id": "d8a7fa3c",
   "metadata": {},
   "source": [
    "## Full object integration"
   ]
  },
  {
   "cell_type": "code",
   "execution_count": null,
   "id": "3cd473a2",
   "metadata": {},
   "outputs": [],
   "source": [
    "load(\"Xenium/hgsoc_1_b.rda\")\n",
    "load(\"Xenium/hgsoc_2_a.rda\")\n"
   ]
  },
  {
   "cell_type": "code",
   "execution_count": null,
   "id": "2c5c14e8",
   "metadata": {},
   "outputs": [],
   "source": [
    "int_ova  <- merge(hgsoc_1_b, hgsoc_2_a)"
   ]
  },
  {
   "cell_type": "code",
   "execution_count": null,
   "id": "2154fd08",
   "metadata": {},
   "outputs": [],
   "source": [
    "int_ova$sample  <- substr(colnames(int_ova),12,12)"
   ]
  },
  {
   "cell_type": "code",
   "execution_count": null,
   "id": "564003ea",
   "metadata": {},
   "outputs": [],
   "source": []
  },
  {
   "cell_type": "code",
   "execution_count": null,
   "id": "eed68c7d",
   "metadata": {},
   "outputs": [],
   "source": [
    "int_ova$sample  <- ifelse(int_ova$sample == 1, \"hgsoc_1_b\",\"hgsoc_2_a\")"
   ]
  },
  {
   "cell_type": "code",
   "execution_count": null,
   "id": "63e5f9a6",
   "metadata": {},
   "outputs": [],
   "source": [
    "int_ova$sample  %>% table"
   ]
  },
  {
   "cell_type": "code",
   "execution_count": null,
   "id": "114090d5",
   "metadata": {},
   "outputs": [],
   "source": []
  },
  {
   "cell_type": "code",
   "execution_count": null,
   "id": "1667d129",
   "metadata": {
    "scrolled": true
   },
   "outputs": [],
   "source": [
    "int_ova <- SCTransform(int_ova, assay = \"Xenium\")\n",
    "int_ova <- RunPCA(int_ova, npcs = 30, features = rownames(int_ova))\n",
    "int_ova <- RunUMAP(int_ova, dims = 1:30)\n",
    "int_ova <- FindNeighbors(int_ova, reduction = \"pca\", dims = 1:30)\n",
    "int_ova <- FindClusters(int_ova, resolution = 0.3)"
   ]
  },
  {
   "cell_type": "code",
   "execution_count": null,
   "id": "133800f8",
   "metadata": {},
   "outputs": [],
   "source": [
    "DimPlot(int_ova, group.by = \"sample\")"
   ]
  },
  {
   "cell_type": "code",
   "execution_count": null,
   "id": "bd253741",
   "metadata": {},
   "outputs": [],
   "source": [
    "DimPlot(int_ova)"
   ]
  },
  {
   "cell_type": "code",
   "execution_count": null,
   "id": "fafab628",
   "metadata": {},
   "outputs": [],
   "source": [
    "int_ova <- split(int_ova, f = int_ova$sample)"
   ]
  },
  {
   "cell_type": "code",
   "execution_count": null,
   "id": "5218387c",
   "metadata": {},
   "outputs": [],
   "source": [
    "int_ova <- NormalizeData(int_ova)\n",
    "int_ova <- FindVariableFeatures(int_ova)\n",
    "int_ova <- ScaleData(int_ova)\n",
    "int_ova <- RunPCA(int_ova)"
   ]
  },
  {
   "cell_type": "code",
   "execution_count": null,
   "id": "9df0cb28",
   "metadata": {},
   "outputs": [],
   "source": [
    "int_ova <- IntegrateLayers(\n",
    "  object = int_ova, method = HarmonyIntegration,\n",
    "  orig.reduction = \"pca\", new.reduction = \"harmony\",\n",
    "  verbose = FALSE\n",
    ")"
   ]
  },
  {
   "cell_type": "code",
   "execution_count": null,
   "id": "77b202f3",
   "metadata": {
    "scrolled": true
   },
   "outputs": [],
   "source": [
    "int_ova <- RunUMAP(int_ova, reduction = \"harmony\", dims = 1:30, reduction.name = \"umap.harmony\")"
   ]
  },
  {
   "cell_type": "code",
   "execution_count": null,
   "id": "0659b797",
   "metadata": {},
   "outputs": [],
   "source": [
    "DimPlot(int_ova, group.by = \"sample\", reduction = \"umap.harmony\")"
   ]
  },
  {
   "cell_type": "code",
   "execution_count": null,
   "id": "0f4db601",
   "metadata": {},
   "outputs": [],
   "source": [
    "FeaturePlot(int_ova, features = c(\"CD79A\",\"MS4A1\",\"JCHAIN\",\"FCER2\"), reduction = \"umap.harmony\")"
   ]
  },
  {
   "cell_type": "code",
   "execution_count": null,
   "id": "8369f305",
   "metadata": {},
   "outputs": [],
   "source": [
    "FeaturePlot(int_ova, features = c(\"CD8A\",\"CD4\",\"LCK\",\"CD3D\"), reduction = \"umap.harmony\")"
   ]
  },
  {
   "cell_type": "code",
   "execution_count": null,
   "id": "0ccf4ff8",
   "metadata": {},
   "outputs": [],
   "source": [
    "FeaturePlot(int_ova, features = c(\"CEACAM1\",\"EGFR\",\"EPCAM\",\"KRAS\"), reduction = \"umap.harmony\")"
   ]
  },
  {
   "cell_type": "code",
   "execution_count": null,
   "id": "66b7b124",
   "metadata": {},
   "outputs": [],
   "source": []
  },
  {
   "cell_type": "code",
   "execution_count": null,
   "id": "803f9177",
   "metadata": {
    "scrolled": true
   },
   "outputs": [],
   "source": [
    "options(repr.plot.width = 40, repr.plot.height = 30)\n",
    "FeaturePlot(int_ova, features = c('KLRB1','KLRC1','KLRD1','KLRF1','KLRK1',\n",
    "                                  \"NCAM1\",\"NKG7\",\"EOMES\",\n",
    "                                  'GNLY','GZMA','GZMB','GZMH','GZMK', \"CD3D\",\"NCR1\"), reduction = \"umap.harmony\", ncol = 4)"
   ]
  },
  {
   "cell_type": "code",
   "execution_count": null,
   "id": "265ae213",
   "metadata": {},
   "outputs": [],
   "source": [
    "saveRDS(int_ova, \"./datasets/ova_integrated_full_filt_harmony.rds\")"
   ]
  },
  {
   "cell_type": "code",
   "execution_count": null,
   "id": "34d9dbcb",
   "metadata": {},
   "outputs": [],
   "source": [
    "int_ova  <- readRDS(\"./datasets/ova_integrated_full_filt_harmony.rds\")"
   ]
  },
  {
   "cell_type": "code",
   "execution_count": null,
   "id": "a33bbbc4",
   "metadata": {},
   "outputs": [],
   "source": [
    "options(repr.plot.width = 16, repr.plot.height = 9)\n",
    "\n",
    "DimPlot(int_ova, reduction = \"umap.harmony\", label = T, label.size = 8)"
   ]
  },
  {
   "cell_type": "code",
   "execution_count": null,
   "id": "7564e807",
   "metadata": {},
   "outputs": [],
   "source": [
    "options(repr.plot.width = 16, repr.plot.height = 9)\n",
    "\n",
    "DimPlot(int_ova, reduction = \"umap.harmony\", label = T, label.size = 8)"
   ]
  },
  {
   "cell_type": "code",
   "execution_count": null,
   "id": "5903654e",
   "metadata": {},
   "outputs": [],
   "source": [
    "VlnPlot(int_ova, features =  c(\"nFeature_Xenium\", \"nCount_Xenium\"), pt.size = 0)"
   ]
  },
  {
   "cell_type": "code",
   "execution_count": null,
   "id": "5896b6b6",
   "metadata": {},
   "outputs": [],
   "source": [
    "VlnPlot(int_ova, features =  c(\"CD3D\", \"LCK\"), pt.size = 0)"
   ]
  },
  {
   "cell_type": "code",
   "execution_count": null,
   "id": "2092bf8c",
   "metadata": {},
   "outputs": [],
   "source": [
    "int_ova$keep  <- ifelse(int_ova$seurat_clusters %in% c(14),\"Remove\",\"Keep\")"
   ]
  },
  {
   "cell_type": "code",
   "execution_count": null,
   "id": "0c782506",
   "metadata": {},
   "outputs": [],
   "source": [
    "DimPlot(int_ova, group.by = \"keep\", cols = c(\"grey88\",'red'))"
   ]
  },
  {
   "cell_type": "code",
   "execution_count": null,
   "id": "5cf2a05e",
   "metadata": {},
   "outputs": [],
   "source": [
    "ggplot(data.frame(nCount_Xenium = int_ova$nCount_Xenium,\n",
    "                  nFeature_Xenium = int_ova$nFeature_Xenium,\n",
    "                  seurat_clusters = int_ova$seurat_clusters,\n",
    "                        exclude = ifelse(int_ova$keep == \"Keep\", \"Keep\", \"Remove\")), \n",
    "       aes(x = seurat_clusters, y = nFeature_Xenium)) +\n",
    "  geom_violin(scale = \"width\", aes(fill = exclude)) + \n",
    "  ggtitle(\"Excluded clusters of low quality cells\") + \n",
    "  theme_classic() +\n",
    "  scale_fill_manual(values = c(\"white\",\"red\")) +\n",
    "  theme(panel.background = element_blank(), \n",
    "        axis.text.x = element_text(angle = 0, hjust = 1))"
   ]
  },
  {
   "cell_type": "code",
   "execution_count": null,
   "id": "3b25a280",
   "metadata": {},
   "outputs": [],
   "source": [
    "int_ova$keep  %>% table"
   ]
  },
  {
   "cell_type": "code",
   "execution_count": null,
   "id": "879765a4",
   "metadata": {},
   "outputs": [],
   "source": [
    "table(int_ova$keep, int_ova$sample)"
   ]
  },
  {
   "cell_type": "code",
   "execution_count": null,
   "id": "11216f82",
   "metadata": {},
   "outputs": [],
   "source": [
    "int_ova  <- subset(int_ova, keep == \"Keep\")"
   ]
  },
  {
   "cell_type": "code",
   "execution_count": null,
   "id": "1468bfb3",
   "metadata": {
    "scrolled": true
   },
   "outputs": [],
   "source": [
    "int_ova <- RunUMAP(int_ova, reduction = \"harmony\", dims = 1:30, reduction.name = \"umap.harmony\")"
   ]
  },
  {
   "cell_type": "code",
   "execution_count": null,
   "id": "6af846d0",
   "metadata": {},
   "outputs": [],
   "source": [
    "DimPlot(int_ova, reduction = \"umap.harmony\")"
   ]
  },
  {
   "cell_type": "code",
   "execution_count": null,
   "id": "d7296902",
   "metadata": {},
   "outputs": [],
   "source": [
    "FeaturePlot(int_ova, features = c(\"CD79A\",\"MS4A1\",\"JCHAIN\",\"FCER2\"), reduction = \"umap.harmony\")"
   ]
  },
  {
   "cell_type": "code",
   "execution_count": null,
   "id": "500dd1ab",
   "metadata": {},
   "outputs": [],
   "source": [
    "FeaturePlot(int_ova, features = c(\"CD8A\",\"CD4\",\"LCK\",\"CD3D\"), reduction = \"umap.harmony\")"
   ]
  },
  {
   "cell_type": "code",
   "execution_count": null,
   "id": "e0fe14cb",
   "metadata": {},
   "outputs": [],
   "source": [
    "FeaturePlot(int_ova, features = c(\"CEACAM1\",\"EGFR\",\"EPCAM\",\"KRAS\"), reduction = \"umap.harmony\")"
   ]
  },
  {
   "cell_type": "code",
   "execution_count": null,
   "id": "27d35363",
   "metadata": {
    "scrolled": true
   },
   "outputs": [],
   "source": [
    "options(repr.plot.width = 40, repr.plot.height = 30)\n",
    "FeaturePlot(int_ova, features = c('KLRB1','KLRC1','KLRD1','KLRF1','KLRK1',\n",
    "                                  \"NCAM1\",\"NKG7\",\"EOMES\",\n",
    "                                  'GNLY','GZMA','GZMB','GZMH','GZMK', \"CD3D\",\"NCR1\"), reduction = \"umap.harmony\", ncol = 4)"
   ]
  },
  {
   "cell_type": "code",
   "execution_count": null,
   "id": "37e621d5",
   "metadata": {},
   "outputs": [],
   "source": [
    "int_ova  <- FindNeighbors(int_ova)"
   ]
  },
  {
   "cell_type": "code",
   "execution_count": null,
   "id": "a443319c",
   "metadata": {},
   "outputs": [],
   "source": [
    "int_ova  <- FindClusters(int_ova, resolution = 0.2)"
   ]
  },
  {
   "cell_type": "code",
   "execution_count": null,
   "id": "ddb32933",
   "metadata": {},
   "outputs": [],
   "source": [
    "options(repr.plot.width = 16, repr.plot.height = 9)\n",
    "\n",
    "DimPlot(int_ova, reduction = \"umap.harmony\", label = T, label.size = 8)"
   ]
  },
  {
   "cell_type": "code",
   "execution_count": null,
   "id": "e7290a0d",
   "metadata": {},
   "outputs": [],
   "source": [
    "FeaturePlot(int_ova, features = c(\"KLRF1\",\"GNLY\",\"CD3D\",\"EPCAM\"), reduction = \"umap.harmony\")"
   ]
  },
  {
   "cell_type": "markdown",
   "id": "3cfe2e06",
   "metadata": {},
   "source": [
    "## Annotation of cell types"
   ]
  },
  {
   "cell_type": "code",
   "execution_count": null,
   "id": "f88f9f01",
   "metadata": {},
   "outputs": [],
   "source": [
    "mid.se <- celldex::MonacoImmuneData()\n",
    "hpca.se  <- celldex::HumanPrimaryCellAtlasData()\n",
    "\n"
   ]
  },
  {
   "cell_type": "code",
   "execution_count": null,
   "id": "74cf0f3a",
   "metadata": {},
   "outputs": [],
   "source": [
    "int_ova"
   ]
  },
  {
   "cell_type": "code",
   "execution_count": null,
   "id": "0a6aba0e",
   "metadata": {},
   "outputs": [],
   "source": [
    "int_ova  <- JoinLayers(int_ova)"
   ]
  },
  {
   "cell_type": "code",
   "execution_count": null,
   "id": "bfb4626f",
   "metadata": {},
   "outputs": [],
   "source": [
    " DefaultAssay(int_ova)  <- \"SCT\"\n",
    "\t\n",
    "    ### Annotate the dataset with Monaco Immune dataset\n",
    "counts  <- int_ova@assays$SCT@layers$counts"
   ]
  },
  {
   "cell_type": "code",
   "execution_count": null,
   "id": "22bb82e6",
   "metadata": {},
   "outputs": [],
   "source": [
    "rownames(counts)  <- rownames(int_ova@assays$SCT)"
   ]
  },
  {
   "cell_type": "code",
   "execution_count": null,
   "id": "2da28545",
   "metadata": {},
   "outputs": [],
   "source": [
    "\t\tpred.singler <- SingleR(test = counts, ref = mid.se, assay.type.test=1,\n",
    "\t\tlabels = mid.se$label.fine, fine.tune = F)\n",
    "    \n",
    "\n",
    "    \t### Annotate the dataset with Wherry dataset\n",
    "        pred.singler3 <- SingleR(test =  counts, ref = hpca.se,\n",
    "\t\tassay.type.test=1,\n",
    "\t\tlabels = hpca.se$label.fine, fine.tune = F)\n",
    "\n",
    "\t\tall_labels <- data.frame(\n",
    "\t\tMonaco_single = pred.singler$labels,\n",
    "\t\tHPCA_single = pred.singler3$labels,\n",
    "\t\t\n",
    "\t\tbarcode = colnames(int_ova))\n",
    "\t\t\n",
    "\t\tmd2 <- int_ova@meta.data\n",
    "\t\tmd2$barcode = colnames(int_ova)\n",
    "\n",
    "\t\tmd3 <- left_join(md2, all_labels)\n",
    "rownames(md3) <- colnames(int_ova)\n",
    "\t\tint_ova@meta.data <- md3\n",
    "\t\t"
   ]
  },
  {
   "cell_type": "code",
   "execution_count": null,
   "id": "a26dc98e",
   "metadata": {},
   "outputs": [],
   "source": [
    "prediction_monaco  <- pred.singler$scores  %>% as.data.frame()"
   ]
  },
  {
   "cell_type": "code",
   "execution_count": null,
   "id": "a8410ba8",
   "metadata": {},
   "outputs": [],
   "source": [
    "prediction_monaco$cluster  <- unname(int_ova$seurat_clusters)"
   ]
  },
  {
   "cell_type": "code",
   "execution_count": null,
   "id": "7a69c775",
   "metadata": {},
   "outputs": [],
   "source": [
    "options(repr.plot.width = 20, repr.plot.height = 7.5)\n",
    "DimPlot(int_ova, raster = F, group.by = \"Monaco_single\", label = F, repel = T, reduction = \"umap.harmony\")"
   ]
  },
  {
   "cell_type": "code",
   "execution_count": null,
   "id": "4faaa0c4",
   "metadata": {},
   "outputs": [],
   "source": []
  },
  {
   "cell_type": "code",
   "execution_count": null,
   "id": "5fb70e11",
   "metadata": {},
   "outputs": [],
   "source": [
    "DimPlot(int_ova, raster = F, \n",
    "        cells.highlight = colnames(subset(int_ova, Monaco_single == \"Natural killer cells\")),\n",
    "        reduction = \"umap.harmony\")"
   ]
  },
  {
   "cell_type": "code",
   "execution_count": null,
   "id": "9369d817",
   "metadata": {},
   "outputs": [],
   "source": [
    "prediction_monaco  <- prediction_monaco  %>% pivot_longer(!cluster, \n",
    "                                                          names_to = \"annotation\", values_to = \"score\")"
   ]
  },
  {
   "cell_type": "code",
   "execution_count": null,
   "id": "7f177e30",
   "metadata": {},
   "outputs": [],
   "source": [
    "options(repr.plot.width = 17, repr.plot.height = 10)\n",
    "\n",
    "ggplot(prediction_monaco, aes(x = cluster, y = score)) +\n",
    "  geom_violin(scale = \"width\", aes(fill = cluster)) +\n",
    "  facet_wrap(~annotation, ncol = 8) +\n",
    "  ggtitle(\"Cluster annotations - Monaco Immune Database\") + \n",
    "  theme_classic() +\n",
    "  theme(panel.background = element_blank(), \n",
    "        axis.text.x = element_text(angle = 0, hjust = 1))"
   ]
  },
  {
   "cell_type": "code",
   "execution_count": null,
   "id": "df3a223f",
   "metadata": {
    "scrolled": true
   },
   "outputs": [],
   "source": [
    "options(repr.plot.width = 40, repr.plot.height = 10)\n",
    "DimPlot(int_ova, raster = F, group.by = \"HPCA_single\", label = F, reduction = \"umap.harmony\")"
   ]
  },
  {
   "cell_type": "markdown",
   "id": "883873a9",
   "metadata": {},
   "source": [
    "## Coarse annotations"
   ]
  },
  {
   "cell_type": "code",
   "execution_count": null,
   "id": "9ffd7bb3",
   "metadata": {},
   "outputs": [],
   "source": [
    "int_ova  <- readRDS(\"./datasets/ova_integrated_full_filt_harmony.rds\")"
   ]
  },
  {
   "cell_type": "code",
   "execution_count": null,
   "id": "d851c59b",
   "metadata": {},
   "outputs": [],
   "source": [
    "options(repr.plot.width = 8, repr.plot.height = 7)\n",
    "\n",
    "DimPlot(int_ova, reduction = \"umap.harmony\", label = T, label.size = 8)"
   ]
  },
  {
   "cell_type": "code",
   "execution_count": null,
   "id": "88408e28",
   "metadata": {},
   "outputs": [],
   "source": [
    "int_ova$annotations_coarse  <- recode(int_ova$seurat_clusters, \n",
    "                                      \"0\" = \"T/NK\",\n",
    "                                      \"1\" = \"Tumor\",\n",
    "                                      \"2\" = \"Plasma cells\",\n",
    "                                      \"3\" = \"Fibroblasts\",\n",
    "                                      \"4\" = \"B cells\",\n",
    "                                      \"5\" = \"Myeloid cells\",\n",
    "                                      \"6\" = \"Tumor\"\n",
    "                                      )"
   ]
  },
  {
   "cell_type": "code",
   "execution_count": null,
   "id": "a3243707",
   "metadata": {},
   "outputs": [],
   "source": [
    "DimPlot(int_ova, reduction = \"umap.harmony\", label = T, label.size = 8, group.by = \"annotations_coarse\")"
   ]
  },
  {
   "cell_type": "code",
   "execution_count": null,
   "id": "3b2793fa",
   "metadata": {},
   "outputs": [],
   "source": [
    "options(repr.plot.width = 12, repr.plot.height = 4)\n",
    "DotPlot(int_ova, cols = c(\"dodgerblue\",\"indianred2\"),\n",
    "        group.by = \"annotations_coarse\",\n",
    "        features = c(\n",
    "            \"CD68\",\"FCGR2A\",\"APOE\",\"ITGAX\",\n",
    "            \"CD19\",\"BANK1\",\"MS4A1\",\"CD79A\",\n",
    "            \"FN1\",\"DCN\",\"SPARC\",\"SPARCL1\",\n",
    "            \"CD27\",\"CD38\",\"IGHG4\",\"IGHM\",\n",
    "            \"CD47\",\"EPCAM\",\"SOS1\",\"KRAS\",\n",
    "            \"CD3D\",\"CD3E\",\"CD8A\",\"LCK\"\n",
    "        )) + theme(axis.text.x = element_text(angle = 90))"
   ]
  },
  {
   "cell_type": "markdown",
   "id": "ab59a28c",
   "metadata": {},
   "source": [
    "## Visualization of cell types"
   ]
  },
  {
   "cell_type": "code",
   "execution_count": null,
   "id": "393e3295",
   "metadata": {},
   "outputs": [],
   "source": [
    "hgsoc_1_b  <- readRDS(\"datasets/hgsoc_1_b.rds\")"
   ]
  },
  {
   "cell_type": "code",
   "execution_count": null,
   "id": "2ca55cdb",
   "metadata": {},
   "outputs": [],
   "source": [
    "Idents(hgsoc_1_b)  <- hgsoc_1_b$annotations_coarse"
   ]
  },
  {
   "cell_type": "code",
   "execution_count": null,
   "id": "c03b3d45",
   "metadata": {},
   "outputs": [],
   "source": [
    "options(repr.plot.width = 20, repr.plot.height = 16)\n",
    "\n",
    "ImageDimPlot(hgsoc_1_b, fov = \"fov\", nmols = 10000, alpha = 0.5)"
   ]
  },
  {
   "cell_type": "code",
   "execution_count": null,
   "id": "b9bad2f5",
   "metadata": {},
   "outputs": [],
   "source": []
  },
  {
   "cell_type": "code",
   "execution_count": null,
   "id": "153ba01d",
   "metadata": {},
   "outputs": [],
   "source": [
    "hgsoc_2_a  <-  readRDS(\"datasets/hgsoc_2_a.rds\")"
   ]
  },
  {
   "cell_type": "code",
   "execution_count": null,
   "id": "21891351",
   "metadata": {},
   "outputs": [],
   "source": []
  },
  {
   "cell_type": "markdown",
   "id": "78bf1e19",
   "metadata": {},
   "source": [
    "## T NK reclustering"
   ]
  },
  {
   "cell_type": "code",
   "execution_count": null,
   "id": "0551c06d",
   "metadata": {
    "scrolled": true
   },
   "outputs": [],
   "source": [
    "t_nk_ova  <- subset(int_ova, seurat_clusters == 0)"
   ]
  },
  {
   "cell_type": "code",
   "execution_count": null,
   "id": "dda20b8d",
   "metadata": {
    "scrolled": true
   },
   "outputs": [],
   "source": [
    "t_nk_ova <- RunUMAP(t_nk_ova, reduction = \"harmony\", dims = 1:30, reduction.name = \"umap.harmony\")"
   ]
  },
  {
   "cell_type": "code",
   "execution_count": null,
   "id": "56766c8b",
   "metadata": {},
   "outputs": [],
   "source": [
    "DimPlot(t_nk_ova, group.by = \"sample\", reduction = \"umap.harmony\")"
   ]
  },
  {
   "cell_type": "code",
   "execution_count": null,
   "id": "aae607da",
   "metadata": {},
   "outputs": [],
   "source": [
    "FeaturePlot(t_nk_ova, features = c(\"CD79A\",\"MS4A1\",\"JCHAIN\",\"FCER2\"), reduction = \"umap.harmony\")"
   ]
  },
  {
   "cell_type": "code",
   "execution_count": null,
   "id": "98ac67ae",
   "metadata": {},
   "outputs": [],
   "source": [
    "FeaturePlot(t_nk_ova, features = c(\"CD8A\",\"CD4\",\"LCK\",\"CD3D\"), reduction = \"umap.harmony\")"
   ]
  },
  {
   "cell_type": "code",
   "execution_count": null,
   "id": "792b5969",
   "metadata": {},
   "outputs": [],
   "source": [
    "FeaturePlot(t_nk_ova, features = c(\"CEACAM1\",\"EGFR\",\"EPCAM\",\"KRAS\"), reduction = \"umap.harmony\")"
   ]
  },
  {
   "cell_type": "code",
   "execution_count": null,
   "id": "d5f14cae",
   "metadata": {
    "scrolled": true
   },
   "outputs": [],
   "source": [
    "options(repr.plot.width = 40, repr.plot.height = 30)\n",
    "FeaturePlot(t_nk_ova, features = c('KLRB1','KLRC1','KLRD1','KLRF1','KLRK1',\n",
    "                                  \"NCAM1\",\"NKG7\",\"EOMES\",\n",
    "                                  'GNLY','GZMA','GZMB','GZMH','GZMK', \"CD3D\",\"NCR1\"), reduction = \"umap.harmony\", ncol = 4)"
   ]
  },
  {
   "cell_type": "code",
   "execution_count": null,
   "id": "da94b49d",
   "metadata": {},
   "outputs": [],
   "source": [
    "t_nk_ova  <- FindNeighbors(t_nk_ova, reduction = \"harmony\", graph.name = \"umap.harmony.neighbors\")"
   ]
  },
  {
   "cell_type": "code",
   "execution_count": null,
   "id": "f5eab188",
   "metadata": {
    "scrolled": true
   },
   "outputs": [],
   "source": [
    "t_nk_ova  <- FindClusters(t_nk_ova, resolution = 0.5, graph.name = \"umap.harmony.neighbors\")"
   ]
  },
  {
   "cell_type": "code",
   "execution_count": null,
   "id": "fa6f3675",
   "metadata": {},
   "outputs": [],
   "source": [
    "options(repr.plot.width = 16, repr.plot.height = 9)\n",
    "\n",
    "DimPlot(t_nk_ova, reduction = \"umap.harmony\", label = T, label.size = 8)"
   ]
  },
  {
   "cell_type": "code",
   "execution_count": null,
   "id": "438554a3",
   "metadata": {},
   "outputs": [],
   "source": []
  },
  {
   "cell_type": "code",
   "execution_count": null,
   "id": "40f37f0b",
   "metadata": {},
   "outputs": [],
   "source": [
    "t_nk_ova  <- JoinLayers(t_nk_ova)"
   ]
  },
  {
   "cell_type": "code",
   "execution_count": null,
   "id": "6ca477b4",
   "metadata": {},
   "outputs": [],
   "source": [
    " DefaultAssay(t_nk_ova)  <- \"SCT\"\n",
    "\t\n",
    "    ### Annotate the dataset with Monaco Immune dataset\n",
    "counts  <- t_nk_ova@assays$SCT@layers$counts"
   ]
  },
  {
   "cell_type": "code",
   "execution_count": null,
   "id": "d5de3f06",
   "metadata": {},
   "outputs": [],
   "source": [
    "rownames(counts)  <- rownames(t_nk_ova@assays$SCT)"
   ]
  },
  {
   "cell_type": "code",
   "execution_count": null,
   "id": "c67ffc0a",
   "metadata": {},
   "outputs": [],
   "source": [
    "\t\tpred.singler <- SingleR(test = counts, ref = mid.se, assay.type.test=1,\n",
    "\t\tlabels = mid.se$label.fine, fine.tune = F)\n",
    "    \n",
    "\n",
    "    \t### Annotate the dataset with Wherry dataset\n",
    "        pred.singler3 <- SingleR(test =  counts, ref = hpca.se,\n",
    "\t\tassay.type.test=1,\n",
    "\t\tlabels = hpca.se$label.fine, fine.tune = F)\n",
    "\n",
    "\t\tall_labels <- data.frame(\n",
    "\t\tMonaco_single = pred.singler$labels,\n",
    "\t\tHPCA_single = pred.singler3$labels,\n",
    "\t\t\n",
    "\t\tbarcode = colnames(t_nk_ova))\n",
    "\t\t\n",
    "\t\tmd2 <- t_nk_ova@meta.data\n",
    "\t\tmd2$barcode = colnames(t_nk_ova)\n",
    "\n",
    "\t\tmd3 <- left_join(md2, all_labels)\n",
    "rownames(md3) <- colnames(t_nk_ova)\n",
    "\t\tt_nk_ova@meta.data <- md3\n",
    "\t\t"
   ]
  },
  {
   "cell_type": "code",
   "execution_count": null,
   "id": "a9a0b33d",
   "metadata": {},
   "outputs": [],
   "source": [
    "prediction_monaco  <- pred.singler$scores  %>% as.data.frame()"
   ]
  },
  {
   "cell_type": "code",
   "execution_count": null,
   "id": "f4ffafab",
   "metadata": {},
   "outputs": [],
   "source": [
    "prediction_monaco$cluster  <- unname(t_nk_ova$seurat_clusters)"
   ]
  },
  {
   "cell_type": "code",
   "execution_count": null,
   "id": "0a27d4bd",
   "metadata": {},
   "outputs": [],
   "source": [
    "options(repr.plot.width = 20, repr.plot.height = 7.5)\n",
    "DimPlot(t_nk_ova, raster = F, group.by = \"Monaco_single\", label = F, repel = T, reduction = \"umap.harmony\")"
   ]
  },
  {
   "cell_type": "code",
   "execution_count": null,
   "id": "f57b86cd",
   "metadata": {},
   "outputs": [],
   "source": [
    "DimPlot(t_nk_ova, raster = F, \n",
    "        cells.highlight = colnames(subset(t_nk_ova, Monaco_single == \"Natural killer cells\")),\n",
    "        reduction = \"umap.harmony\")"
   ]
  },
  {
   "cell_type": "code",
   "execution_count": null,
   "id": "e899de65",
   "metadata": {},
   "outputs": [],
   "source": [
    "saveRDS(t_nk_ova, \"./datasets/ova_integrated_t_nk.rds\")"
   ]
  },
  {
   "cell_type": "code",
   "execution_count": null,
   "id": "92f46684",
   "metadata": {},
   "outputs": [],
   "source": [
    "saveRDS(int_ova, \"./datasets/ova_integrated_full_filt.rds\")"
   ]
  },
  {
   "cell_type": "code",
   "execution_count": null,
   "id": "f200d479",
   "metadata": {},
   "outputs": [],
   "source": [
    "t_nk_ova$HPCA_single  %>% table"
   ]
  },
  {
   "cell_type": "code",
   "execution_count": null,
   "id": "689166a5",
   "metadata": {},
   "outputs": [],
   "source": [
    "t_nk_ova$hpca_nk_cell  <- ifelse(grepl(t_nk_ova$HPCA_single, pattern = \"NK_cell\"), \n",
    "       t_nk_ova$HPCA_single, \"Other\") "
   ]
  },
  {
   "cell_type": "code",
   "execution_count": null,
   "id": "994b4645",
   "metadata": {},
   "outputs": [],
   "source": [
    "t_nk_ova$hpca_nk_cell  %>% table"
   ]
  },
  {
   "cell_type": "code",
   "execution_count": null,
   "id": "6a930f92",
   "metadata": {},
   "outputs": [],
   "source": [
    "DimPlot(t_nk_ova, group.by = \"hpca_nk_cell\", reduction = \"umap.harmony\", cols = c(\"red\",\"blue\",\"green\",\"grey88\"))"
   ]
  },
  {
   "cell_type": "code",
   "execution_count": null,
   "id": "387f488c",
   "metadata": {
    "scrolled": true
   },
   "outputs": [],
   "source": [
    "DimPlot(t_nk_ova, raster = F, \n",
    "        cells.highlight = colnames(subset(t_nk_ova, hpca_nk_cell == \"NK_cell\")),\n",
    "        reduction = \"umap.harmony\")"
   ]
  },
  {
   "cell_type": "code",
   "execution_count": null,
   "id": "4e1c9ddf",
   "metadata": {
    "scrolled": true
   },
   "outputs": [],
   "source": [
    "DimPlot(t_nk_ova, raster = F, \n",
    "        cells.highlight = colnames(subset(t_nk_ova, hpca_nk_cell == \"NK_cell:CD56hiCD62L+\")),\n",
    "        reduction = \"umap.harmony\")"
   ]
  },
  {
   "cell_type": "code",
   "execution_count": null,
   "id": "43e16e56",
   "metadata": {
    "scrolled": true
   },
   "outputs": [],
   "source": [
    "DimPlot(t_nk_ova, raster = F, \n",
    "        cells.highlight = colnames(subset(t_nk_ova, hpca_nk_cell == \"NK_cell:IL2\")),\n",
    "        reduction = \"umap.harmony\")"
   ]
  },
  {
   "cell_type": "code",
   "execution_count": null,
   "id": "c24f679c",
   "metadata": {},
   "outputs": [],
   "source": []
  },
  {
   "cell_type": "code",
   "execution_count": null,
   "id": "456a3d53",
   "metadata": {},
   "outputs": [],
   "source": [
    "dir.create(\"figures/dimplots/t_nk_ova/\")"
   ]
  },
  {
   "cell_type": "code",
   "execution_count": null,
   "id": "de382bc6",
   "metadata": {},
   "outputs": [],
   "source": [
    "for(i in rownames(t_nk_ova)){\n",
    "    print(FeaturePlot(t_nk_ova, features = i, reduction = \"umap.harmony\"))\n",
    "    ggsave(paste0(\"figures/dimplots/t_nk_ova/\",i,\".png\"), width = 13, height = 10, units = \"cm\")\n",
    "}"
   ]
  },
  {
   "cell_type": "code",
   "execution_count": null,
   "id": "89e2c052",
   "metadata": {},
   "outputs": [],
   "source": [
    "t_nk_ova$Monaco_single  %>% table"
   ]
  },
  {
   "cell_type": "code",
   "execution_count": null,
   "id": "8a1c0adc",
   "metadata": {},
   "outputs": [],
   "source": [
    "is_nk_cell  <- ifelse(grepl(t_nk_ova$Monaco_single, pattern = \"Natural\") |\n",
    "                      grepl(t_nk_ova$hpca_nk_cell, pattern = \"NK\"), \"NK_cell\",\"Other\")"
   ]
  },
  {
   "cell_type": "code",
   "execution_count": null,
   "id": "9fb6fe60",
   "metadata": {},
   "outputs": [],
   "source": [
    "is_nk_cell  %>% table"
   ]
  },
  {
   "cell_type": "code",
   "execution_count": null,
   "id": "3b2158b5",
   "metadata": {},
   "outputs": [],
   "source": [
    "t_nk_ova$is_nk_cell  <- is_nk_cell"
   ]
  },
  {
   "cell_type": "code",
   "execution_count": null,
   "id": "6e61c1c6",
   "metadata": {},
   "outputs": [],
   "source": [
    "DimPlot(t_nk_ova, group.by = \"is_nk_cell\", reduction = \"umap.harmony\")"
   ]
  },
  {
   "cell_type": "code",
   "execution_count": null,
   "id": "bd6e898f",
   "metadata": {},
   "outputs": [],
   "source": [
    "VlnPlot(t_nk_ova, c(\"CD3D\",\"GNLY\",\"GZMA\",\"CD8A\",\"CD8B\",\"LCK\"), group.by = \"is_nk_cell\", pt.size = 0)"
   ]
  },
  {
   "cell_type": "code",
   "execution_count": null,
   "id": "d306be56",
   "metadata": {},
   "outputs": [],
   "source": [
    "t_nk_ova  <- readRDS(\"./datasets/ova_integrated_t_nk.rds\")"
   ]
  },
  {
   "cell_type": "markdown",
   "id": "b15ce102",
   "metadata": {},
   "source": [
    "## T NK subset"
   ]
  },
  {
   "cell_type": "code",
   "execution_count": null,
   "id": "3098279b",
   "metadata": {},
   "outputs": [],
   "source": [
    "nk_ova  <- subset(t_nk_ova, is_nk_cell == \"NK_cell\")"
   ]
  },
  {
   "cell_type": "code",
   "execution_count": null,
   "id": "07b1499c",
   "metadata": {
    "scrolled": true
   },
   "outputs": [],
   "source": [
    "nk_ova <- RunUMAP(nk_ova, reduction = \"harmony\", dims = 1:30, reduction.name = \"umap.harmony\")"
   ]
  },
  {
   "cell_type": "code",
   "execution_count": null,
   "id": "ee0202ff",
   "metadata": {},
   "outputs": [],
   "source": [
    "DimPlot(nk_ova, group.by = \"sample\", reduction = \"umap.harmony\")"
   ]
  },
  {
   "cell_type": "code",
   "execution_count": null,
   "id": "e64aa3f7",
   "metadata": {},
   "outputs": [],
   "source": [
    "options(repr.plot.width = 12, repr.plot.height = 8)\n",
    "FeaturePlot(nk_ova, features = c(\"GZMB\",\"GZMA\",\"GNLY\",\"GZMK\"), reduction = \"umap.harmony\")"
   ]
  },
  {
   "cell_type": "code",
   "execution_count": null,
   "id": "511c1b19",
   "metadata": {},
   "outputs": [],
   "source": [
    "FeaturePlot(nk_ova, features = c(\"HAVCR2\",\"PDCD1\",\"KLRC1\",\"KLRB1\"), reduction = \"umap.harmony\")"
   ]
  },
  {
   "cell_type": "code",
   "execution_count": null,
   "id": "263a6f75",
   "metadata": {},
   "outputs": [],
   "source": [
    "\n",
    "FeaturePlot(nk_ova, features = c(\"CST7\",\"PRF1\",\"IL2RB\",\"EOMES\"), reduction = \"umap.harmony\")"
   ]
  },
  {
   "cell_type": "code",
   "execution_count": null,
   "id": "8b1957c3",
   "metadata": {},
   "outputs": [],
   "source": [
    "nk_ova  <- FindNeighbors(nk_ova, reduction = \"harmony\", graph.name = \"umap.harmony.neighbors\")"
   ]
  },
  {
   "cell_type": "code",
   "execution_count": null,
   "id": "c94df33c",
   "metadata": {
    "scrolled": true
   },
   "outputs": [],
   "source": [
    "nk_ova  <- FindClusters(nk_ova, resolution = 0.5, graph.name = \"umap.harmony.neighbors\")"
   ]
  },
  {
   "cell_type": "code",
   "execution_count": null,
   "id": "f6da1ffb",
   "metadata": {},
   "outputs": [],
   "source": [
    "options(repr.plot.width = 16, repr.plot.height = 9)\n",
    "\n",
    "DimPlot(nk_ova, reduction = \"umap.harmony\", label = T, label.size = 8)"
   ]
  },
  {
   "cell_type": "markdown",
   "id": "df4708d7",
   "metadata": {},
   "source": [
    "# Integration NK"
   ]
  },
  {
   "cell_type": "code",
   "execution_count": null,
   "id": "0e554999",
   "metadata": {
    "scrolled": true
   },
   "outputs": [],
   "source": [
    "int_nk  <- merge(nk_lung, nk_ova)"
   ]
  },
  {
   "cell_type": "code",
   "execution_count": null,
   "id": "38b5250a",
   "metadata": {
    "scrolled": true
   },
   "outputs": [],
   "source": [
    "int_nk <- SCTransform(int_nk, assay = \"Xenium\")\n",
    "int_nk <- RunPCA(int_nk, npcs = 30, features = rownames(int_nk))\n",
    "int_nk <- RunUMAP(int_nk, dims = 1:30)\n",
    "int_nk <- FindNeighbors(int_nk, reduction = \"pca\", dims = 1:30)\n",
    "int_nk <- FindClusters(int_nk, resolution = 0.3)"
   ]
  },
  {
   "cell_type": "code",
   "execution_count": null,
   "id": "205678db",
   "metadata": {},
   "outputs": [],
   "source": [
    "DimPlot(int_nk, group.by = \"sample\")"
   ]
  },
  {
   "cell_type": "code",
   "execution_count": null,
   "id": "f19a7242",
   "metadata": {},
   "outputs": [],
   "source": [
    "DimPlot(int_nk)"
   ]
  },
  {
   "cell_type": "code",
   "execution_count": null,
   "id": "fefe6b60",
   "metadata": {},
   "outputs": [],
   "source": [
    "int_nk <- split(int_nk, f = int_nk$sample)"
   ]
  },
  {
   "cell_type": "code",
   "execution_count": null,
   "id": "fd0eb133",
   "metadata": {},
   "outputs": [],
   "source": [
    "int_nk <- NormalizeData(int_nk)\n",
    "int_nk <- FindVariableFeatures(int_nk)\n",
    "int_nk <- ScaleData(int_nk)\n",
    "int_nk <- RunPCA(int_nk)"
   ]
  },
  {
   "cell_type": "code",
   "execution_count": null,
   "id": "ff132ecd",
   "metadata": {},
   "outputs": [],
   "source": [
    "int_nk <- IntegrateLayers(\n",
    "  object = int_nk, method = HarmonyIntegration,\n",
    "  orig.reduction = \"pca\", new.reduction = \"harmony\",\n",
    "  verbose = FALSE\n",
    ")"
   ]
  },
  {
   "cell_type": "code",
   "execution_count": null,
   "id": "33dffe37",
   "metadata": {
    "scrolled": true
   },
   "outputs": [],
   "source": [
    "int_nk <- RunUMAP(int_nk, reduction = \"harmony\", dims = 1:30, reduction.name = \"umap.harmony\")"
   ]
  },
  {
   "cell_type": "code",
   "execution_count": null,
   "id": "84ead45b",
   "metadata": {},
   "outputs": [],
   "source": [
    "DimPlot(int_nk, group.by = \"sample\", reduction = \"umap.harmony\")"
   ]
  },
  {
   "cell_type": "code",
   "execution_count": null,
   "id": "8a2bc081",
   "metadata": {},
   "outputs": [],
   "source": [
    "VlnPlot(int_nk, group.by = \"sample\", features = c(\"CST7\",\"GZMK\",\"GZMA\",\"NCAM1\",\"PDCD1\",\"HAVCR2\",\"TOX\"))"
   ]
  },
  {
   "cell_type": "code",
   "execution_count": null,
   "id": "5e314102",
   "metadata": {},
   "outputs": [],
   "source": [
    "DotPlot(int_nk, group.by = \"sample\", features = c(\"CST7\",\"GZMK\",\"GZMA\",\"NCAM1\",\"PDCD1\",\"HAVCR2\",\"TOX\"))"
   ]
  },
  {
   "cell_type": "code",
   "execution_count": null,
   "id": "91b82459",
   "metadata": {},
   "outputs": [],
   "source": [
    "avgexp  <- AverageExpression(int_nk, return.seurat = F, group.by = \"sample\", assays = \"SCT\")"
   ]
  },
  {
   "cell_type": "code",
   "execution_count": null,
   "id": "c3dfa229",
   "metadata": {},
   "outputs": [],
   "source": [
    "avgexp3  <- as.data.frame(avgexp$SCT)  %>% rownames_to_column(\"gene\")  %>% pivot_longer(!gene, names_to = \"sample\",\n",
    "                                                                                       values_to = \"value\")  %>% \n",
    "mutate(cancer = substr(sample,1,5))"
   ]
  },
  {
   "cell_type": "code",
   "execution_count": null,
   "id": "871ba47e",
   "metadata": {
    "scrolled": true
   },
   "outputs": [],
   "source": [
    "avgexp3"
   ]
  },
  {
   "cell_type": "code",
   "execution_count": null,
   "id": "4aef95f9",
   "metadata": {},
   "outputs": [],
   "source": [
    "ggtheme <- function() {\n",
    "  theme(\n",
    "    axis.text = element_text(size = 20),\n",
    "    axis.title = element_text(size = 20),\n",
    "    text = element_text(size = 20, colour = \"black\"),\n",
    "    legend.text = element_text(size = 20),\n",
    "    legend.key.size =  unit(10, units = \"points\")\n",
    "    \n",
    "  )\n",
    "}\n"
   ]
  },
  {
   "cell_type": "code",
   "execution_count": null,
   "id": "e2b78dae",
   "metadata": {},
   "outputs": [],
   "source": []
  },
  {
   "cell_type": "code",
   "execution_count": null,
   "id": "fc3c3ef3",
   "metadata": {},
   "outputs": [],
   "source": [
    "options(repr.plot.width = 3, repr.plot.height = 3.7)\n",
    "\n",
    "for(i in levels(factor(avgexp3$gene))){\n",
    "   p  <- avgexp3  %>% dplyr::filter(gene == i)  %>% \n",
    "    ggplot(aes(x = cancer, y = value)) +\n",
    "     geom_dotplot(aes(fill = cancer), binaxis='y', stackdir='center', dotsize = 2) +\n",
    "    ggtitle(i) + \n",
    "     theme_classic() + NoLegend() + ggtheme() + xlab(\"\") + ylab(\"Average Expression\")\n",
    "    \n",
    "    \n",
    "    suppressWarnings(print(p))\n",
    "}"
   ]
  },
  {
   "cell_type": "code",
   "execution_count": null,
   "id": "c8b481d1",
   "metadata": {},
   "outputs": [],
   "source": [
    "library(pheatmap)"
   ]
  },
  {
   "cell_type": "code",
   "execution_count": null,
   "id": "72cfe060",
   "metadata": {},
   "outputs": [],
   "source": [
    "avgexp2  <- t(avgexp$SCT[which(rownames(avgexp$SCT) %in% c())])"
   ]
  },
  {
   "cell_type": "code",
   "execution_count": null,
   "id": "6eda96db",
   "metadata": {
    "scrolled": true
   },
   "outputs": [],
   "source": [
    "options(repr.plot.width = 8, repr.plot.height = 3.7)\n",
    "pheatmap(t(avgexp$SCT), main = \"\", \n",
    "         scale = \"column\", cluster_cols = T, cluster_rows = T,\n",
    "        color=colorRampPalette(c(\"dodgerblue\", \"grey95\", \"indianred2\"))(50), \n",
    "         border_color = \"white\",\n",
    "         width = 8, height = 3,\n",
    "                  fontsize = 9)"
   ]
  },
  {
   "cell_type": "markdown",
   "id": "73271a7b",
   "metadata": {},
   "source": [
    "### NK cell subset from Fig 1I"
   ]
  },
  {
   "cell_type": "code",
   "execution_count": null,
   "id": "1e7acc7c",
   "metadata": {},
   "outputs": [],
   "source": [
    "load(\"./datasets/nk.subset.rda\")"
   ]
  },
  {
   "cell_type": "code",
   "execution_count": null,
   "id": "081903b0",
   "metadata": {},
   "outputs": [],
   "source": [
    "nk.subset$Group  %>% table"
   ]
  },
  {
   "cell_type": "code",
   "execution_count": null,
   "id": "eb0542e1",
   "metadata": {},
   "outputs": [],
   "source": [
    "nk.subset$Group1  %>% table"
   ]
  },
  {
   "cell_type": "code",
   "execution_count": null,
   "id": "6d219d34",
   "metadata": {},
   "outputs": [],
   "source": [
    "nk.subset$NK.purity  %>% table"
   ]
  },
  {
   "cell_type": "code",
   "execution_count": null,
   "id": "0d0d3592",
   "metadata": {},
   "outputs": [],
   "source": [
    "options(repr.plot.width = 10, repr.plot.height = 8)\n",
    "DimPlot(nk.subset, group.by = \"NK.purity\")"
   ]
  },
  {
   "cell_type": "code",
   "execution_count": null,
   "id": "4438585f",
   "metadata": {
    "scrolled": true
   },
   "outputs": [],
   "source": [
    "names(nk.subset@reductions)"
   ]
  },
  {
   "cell_type": "code",
   "execution_count": null,
   "id": "1b604697",
   "metadata": {},
   "outputs": [],
   "source": [
    "for(i in names(nk.subset@reductions)[3:8]){\n",
    "    print(DimPlot(nk.subset, group.by = \"NK.purity\", reduction = i))\n",
    "    }"
   ]
  },
  {
   "cell_type": "code",
   "execution_count": null,
   "id": "ca262949",
   "metadata": {},
   "outputs": [],
   "source": [
    "DefaultAssay(nk.subset)"
   ]
  },
  {
   "cell_type": "code",
   "execution_count": null,
   "id": "09ee2b1e",
   "metadata": {},
   "outputs": [],
   "source": [
    "Idents(nk.subset)  <- nk.subset$NK.purity\n",
    "mrk_nk  <- FindAllMarkers(nk.subset)"
   ]
  },
  {
   "cell_type": "code",
   "execution_count": null,
   "id": "9138616d",
   "metadata": {
    "scrolled": true
   },
   "outputs": [],
   "source": [
    "mrk_nk  %>% dplyr::filter(gene %in% c(rownames(nk_lung)) & avg_log2FC > 0)"
   ]
  },
  {
   "cell_type": "code",
   "execution_count": null,
   "id": "00734a1d",
   "metadata": {},
   "outputs": [],
   "source": [
    "nk.subset$Group  %>% table"
   ]
  },
  {
   "cell_type": "code",
   "execution_count": null,
   "id": "54b06591",
   "metadata": {},
   "outputs": [],
   "source": [
    "avgexp  <- AverageExpression(nk.subset, return.seurat = F, group.by = \"Group\", assays = \"RNA\")"
   ]
  },
  {
   "cell_type": "code",
   "execution_count": null,
   "id": "067e2657",
   "metadata": {},
   "outputs": [],
   "source": [
    "avgexp3  <- as.data.frame(avgexp$RNA)  %>% rownames_to_column(\"gene\")  %>% pivot_longer(!gene, names_to = \"sample\",\n",
    "                                                                                       values_to = \"value\")  %>% \n",
    "mutate(cancer = substr(sample,1,2))  %>% dplyr::filter(gene %in% c(rownames(nk_lung)))"
   ]
  },
  {
   "cell_type": "code",
   "execution_count": null,
   "id": "b627f2fb",
   "metadata": {
    "scrolled": true
   },
   "outputs": [],
   "source": [
    "avgexp3"
   ]
  },
  {
   "cell_type": "code",
   "execution_count": null,
   "id": "f3e69f10",
   "metadata": {},
   "outputs": [],
   "source": [
    "options(repr.plot.width = 3, repr.plot.height = 3.7)\n",
    "\n",
    "for(i in c(\"SELL\",\"NCAM1\",\"IL10\",\"CTLA4\",\"FOXP3\",\"HAVCR2\",\"IDO1\")){\n",
    "   p  <- avgexp3  %>% dplyr::filter(gene == i)  %>% \n",
    "    ggplot(aes(x = cancer, y = value)) +\n",
    "     geom_dotplot(aes(fill = cancer), binaxis='y', stackdir='center', dotsize = 2) +\n",
    "    ggtitle(i) + \n",
    "     theme_classic() + NoLegend() + ggtheme() + xlab(\"\") + ylab(\"Average Expression\")\n",
    "    \n",
    "    \n",
    "    suppressWarnings(print(p))\n",
    "}"
   ]
  },
  {
   "cell_type": "markdown",
   "id": "e09e32b4",
   "metadata": {},
   "source": [
    "## NK subtype score"
   ]
  },
  {
   "cell_type": "code",
   "execution_count": null,
   "id": "f7a2fcf0",
   "metadata": {},
   "outputs": [],
   "source": [
    "options(repr.plot.width = 6, repr.plot.height = 3.7)\n",
    "FeaturePlot(nk.subset, features = \"GZMK\", reduction = \"umap.rpca\")\n",
    "FeaturePlot(nk.subset, features = \"NCAM1\", reduction = \"umap.rpca\")\n",
    "FeaturePlot(nk.subset, features = \"CST7\", reduction = \"umap.rpca\")\n",
    "FeaturePlot(nk.subset, features = \"TBX21\", reduction = \"umap.rpca\")\n"
   ]
  },
  {
   "cell_type": "code",
   "execution_count": null,
   "id": "1ad3cc57",
   "metadata": {
    "scrolled": true
   },
   "outputs": [],
   "source": [
    "score_inhib  <- mrk_nk  %>% dplyr::filter(gene %in% c(rownames(nk_lung)) & avg_log2FC > 0 & cluster == \"Pure.cl8\" & p_val_adj < 0.05)  %>% pull(gene)"
   ]
  },
  {
   "cell_type": "code",
   "execution_count": null,
   "id": "1eb4eaf5",
   "metadata": {},
   "outputs": [],
   "source": [
    "score_inhib"
   ]
  },
  {
   "cell_type": "code",
   "execution_count": null,
   "id": "20f0e61a",
   "metadata": {},
   "outputs": [],
   "source": [
    "score_cytotox  <- mrk_nk  %>% \n",
    "dplyr::filter(gene %in% c(rownames(nk_lung)) & avg_log2FC > 0 & \n",
    "              cluster == \"Pure.cl12\" & p_val_adj < 0.05)  %>% pull(gene)"
   ]
  },
  {
   "cell_type": "code",
   "execution_count": null,
   "id": "41746fb5",
   "metadata": {},
   "outputs": [],
   "source": [
    "score_cytotox"
   ]
  },
  {
   "cell_type": "code",
   "execution_count": null,
   "id": "811b09e7",
   "metadata": {},
   "outputs": [],
   "source": [
    "int_nk@assays$SCT$scale.data.hgsoc_2_a  <- NULL"
   ]
  },
  {
   "cell_type": "code",
   "execution_count": null,
   "id": "cc87f1bc",
   "metadata": {},
   "outputs": [],
   "source": [
    "int_nk  <- JoinLayers(int_nk)"
   ]
  },
  {
   "cell_type": "code",
   "execution_count": null,
   "id": "14306152",
   "metadata": {},
   "outputs": [],
   "source": [
    "int_nk  <- AddModuleScore(\n",
    "  object = int_nk,\n",
    "  features = list(c(score_inhib)),\n",
    "  assay = \"SCT\",\n",
    "    nbin = 10,\n",
    "    ctrl = 10,\n",
    "    replace = TRUE,\n",
    "  name = 'NK_inhib_')"
   ]
  },
  {
   "cell_type": "code",
   "execution_count": null,
   "id": "f05b970f",
   "metadata": {},
   "outputs": [],
   "source": [
    "options(repr.plot.width = 5, repr.plot.height = 7)\n",
    "VlnPlot(int_nk, features = \"NK_inhib_1\", pt.size = 0, group.by = \"sample\") + \n",
    "  stat_summary(fun = \"mean\",\n",
    "               geom = \"crossbar\", \n",
    "               width = 0.5,\n",
    "               colour = \"black\")  + NoLegend() + ggtheme() + xlab(\"\")"
   ]
  },
  {
   "cell_type": "code",
   "execution_count": null,
   "id": "12d12c9e",
   "metadata": {},
   "outputs": [],
   "source": [
    "int_nk  <- AddModuleScore(\n",
    "  object = int_nk,\n",
    "  features = list(c(score_cytotox)),\n",
    "  assay = \"SCT\",\n",
    "    nbin = 10,\n",
    "    ctrl = 10,\n",
    "    replace = TRUE,\n",
    "  name = 'NK_cytotox_')"
   ]
  },
  {
   "cell_type": "code",
   "execution_count": null,
   "id": "9734f8c4",
   "metadata": {},
   "outputs": [],
   "source": [
    "options(repr.plot.width = 5, repr.plot.height = 7)\n",
    "\n",
    "VlnPlot(int_nk, features = \"NK_cytotox_1\", pt.size = 0, group.by = \"sample\") + \n",
    "  stat_summary(fun = \"mean\",\n",
    "               geom = \"crossbar\", \n",
    "               width = 0.5,\n",
    "               colour = \"black\") + NoLegend() + ggtheme() + xlab(\"\")"
   ]
  },
  {
   "cell_type": "markdown",
   "id": "8aa55765",
   "metadata": {},
   "source": [
    "# Tertiary lymphoid structures"
   ]
  },
  {
   "cell_type": "code",
   "execution_count": null,
   "id": "e428fff1",
   "metadata": {},
   "outputs": [],
   "source": [
    "tls_chemokine_signature  <- c(\"CCL2\", \"CCL3\", \"CCL4\", \"CCL5\", \"CCL8\", \"CCL19\", \"CCL21\", \"CXCL9\", \"CXCL10\", \"CXCL11\", \"CXCL13\")"
   ]
  },
  {
   "cell_type": "code",
   "execution_count": null,
   "id": "9698f080",
   "metadata": {},
   "outputs": [],
   "source": [
    "ls()"
   ]
  },
  {
   "cell_type": "code",
   "execution_count": null,
   "id": "3acea325",
   "metadata": {},
   "outputs": [],
   "source": [
    "load(\"Xenium/hgsoc_1_b.rda\")\n",
    "load(\"Xenium/hgsoc_2_a.rda\")"
   ]
  },
  {
   "cell_type": "code",
   "execution_count": null,
   "id": "c7b478d5",
   "metadata": {},
   "outputs": [],
   "source": [
    "int_nk$barcode  <- substr(colnames(int_nk),1,nchar(colnames(int_nk))-2)"
   ]
  },
  {
   "cell_type": "code",
   "execution_count": null,
   "id": "b4070f80",
   "metadata": {},
   "outputs": [],
   "source": [
    "table(colnames(hgsoc_1_b)  %in% int_nk$barcode)"
   ]
  },
  {
   "cell_type": "markdown",
   "id": "c7325f64",
   "metadata": {},
   "source": [
    "# Visualization of NK cells"
   ]
  },
  {
   "cell_type": "markdown",
   "id": "34d2ac9e",
   "metadata": {},
   "source": [
    "## hgsoc_1_b"
   ]
  },
  {
   "cell_type": "code",
   "execution_count": null,
   "id": "9d33114e",
   "metadata": {},
   "outputs": [],
   "source": [
    "options(future.globals.maxSize = 10000 * 1024^2)"
   ]
  },
  {
   "cell_type": "code",
   "execution_count": null,
   "id": "74f172f9",
   "metadata": {},
   "outputs": [],
   "source": [
    "nk_hgsoc_1_b  <- subset(int_nk, sample == \"hgsoc_1_b\")"
   ]
  },
  {
   "cell_type": "code",
   "execution_count": null,
   "id": "58a83d68",
   "metadata": {},
   "outputs": [],
   "source": [
    "colnames(nk_hgsoc_1_b)  <- nk_hgsoc_1_b$barcode"
   ]
  },
  {
   "cell_type": "code",
   "execution_count": null,
   "id": "088c3bdc",
   "metadata": {},
   "outputs": [],
   "source": [
    "colnames(nk_hgsoc_1_b) %in% colnames(hgsoc_1_b)  %>% table"
   ]
  },
  {
   "cell_type": "markdown",
   "id": "7016d334",
   "metadata": {},
   "source": [
    "### NK cells in tissue"
   ]
  },
  {
   "cell_type": "code",
   "execution_count": null,
   "id": "e2300f72",
   "metadata": {},
   "outputs": [],
   "source": [
    "options(repr.plot.width = 20, repr.plot.height = 16)\n",
    "highlightCells(highlight_obj = nk_hgsoc_1_b, within_obj = hgsoc_1_b, \n",
    "               size = 2, save_plot = FALSE, color_palette = c(\"darkblue\",\"yellow\"))"
   ]
  },
  {
   "cell_type": "code",
   "execution_count": null,
   "id": "2f7530b3",
   "metadata": {},
   "outputs": [],
   "source": []
  },
  {
   "cell_type": "markdown",
   "id": "9ce6b435",
   "metadata": {},
   "source": [
    "## hgsoc_2_a"
   ]
  },
  {
   "cell_type": "code",
   "execution_count": null,
   "id": "ddf26e04",
   "metadata": {},
   "outputs": [],
   "source": [
    "nk_hgsoc_2_a  <- subset(int_nk, sample == \"hgsoc_2_a\")"
   ]
  },
  {
   "cell_type": "code",
   "execution_count": null,
   "id": "c7a920ea",
   "metadata": {},
   "outputs": [],
   "source": [
    "colnames(nk_hgsoc_2_a)  <- nk_hgsoc_2_a$barcode"
   ]
  },
  {
   "cell_type": "code",
   "execution_count": null,
   "id": "79942d47",
   "metadata": {},
   "outputs": [],
   "source": [
    "colnames(nk_hgsoc_2_a) %in% colnames(hgsoc_2_a)  %>% table"
   ]
  },
  {
   "cell_type": "markdown",
   "id": "4b172123",
   "metadata": {},
   "source": [
    "### NK cells in tissue"
   ]
  },
  {
   "cell_type": "code",
   "execution_count": null,
   "id": "0e8d9704",
   "metadata": {},
   "outputs": [],
   "source": [
    "options(repr.plot.width = 20, repr.plot.height = 16)\n",
    "highlightCells(highlight_obj = nk_hgsoc_2_a, within_obj = hgsoc_2_a, \n",
    "               size = 2, save_plot = FALSE, color_palette = c(\"darkblue\",\"yellow\"))"
   ]
  },
  {
   "cell_type": "markdown",
   "id": "4352ec1f",
   "metadata": {},
   "source": [
    "### Zoom to TLS"
   ]
  },
  {
   "cell_type": "code",
   "execution_count": null,
   "id": "cb8d2507",
   "metadata": {},
   "outputs": [],
   "source": [
    "cropped.coords <- Crop(hgsoc_2_a[[\"fov\"]], x = c(1800, 2000), y = c(2200, 2400), coords = \"plot\")\n",
    "hgsoc_2_a[[\"zoom\"]] <- cropped.coords\n",
    "# visualize cropped area with cell segmentations & selected molecules\n",
    "DefaultBoundary(hgsoc_2_a[[\"zoom\"]]) <- \"segmentation\"\n",
    "ImageDimPlot(hgsoc_2_a, fov = \"zoom\", axes = TRUE, border.color = \"white\", size = 3,  border.size = 0.1, cols = \"polychrome\",\n",
    "    coord.fixed = FALSE, molecules = c(\"GNLY\", \"CD3E\", \"LCK\", \"CST7\", \"FOXP3\"), nmols = 20000)"
   ]
  },
  {
   "cell_type": "code",
   "execution_count": null,
   "id": "0d88f10b",
   "metadata": {},
   "outputs": [],
   "source": [
    "ImageDimPlot(hgsoc_2_a, fov = \"zoom\", axes = TRUE, border.color = \"white\", size = 20,  border.size = 0.1, cols = \"polychrome\",\n",
    "    coord.fixed = FALSE, molecules = c(\"GNLY\", \"CD3E\", \"LCK\", \"CST7\", \"FOXP3\"), nmols = 20000)"
   ]
  },
  {
   "cell_type": "code",
   "execution_count": null,
   "id": "af634b8a",
   "metadata": {},
   "outputs": [],
   "source": [
    "ImageFeaturePlot(hgsoc_2_a, features = \"TBX21\", fov = \"fov\", axes = TRUE,\n",
    "                 border.color = \"white\",  border.size = 0.1, \n",
    "    coord.fixed = FALSE)"
   ]
  },
  {
   "cell_type": "code",
   "execution_count": null,
   "id": "12eeb74f",
   "metadata": {},
   "outputs": [],
   "source": [
    "ImageFeaturePlot(hgsoc_2_a, features = \"GNLY\", fov = \"zoom\", axes = TRUE,\n",
    "                 border.color = \"white\", size = 20,  border.size = 0.1, \n",
    "    coord.fixed = FALSE)"
   ]
  },
  {
   "cell_type": "code",
   "execution_count": null,
   "id": "67bb164f",
   "metadata": {},
   "outputs": [],
   "source": [
    "cells = colnames(nk_hgsoc_2_a), "
   ]
  },
  {
   "cell_type": "code",
   "execution_count": null,
   "id": "52cea01a",
   "metadata": {},
   "outputs": [],
   "source": [
    "ImageDimPlot(hgsoc_2_a, cells = colnames(nk_hgsoc_2_a), fov = \"zoom\", axes = TRUE, border.color = \"white\", size = 20,  border.size = 0.1, cols = \"polychrome\",\n",
    "    coord.fixed = FALSE, molecules = c(\"GNLY\", \"CD3E\", \"LCK\", \"CST7\", \"FOXP3\"), nmols = 20000)"
   ]
  },
  {
   "cell_type": "code",
   "execution_count": null,
   "id": "7c4d1528",
   "metadata": {},
   "outputs": [],
   "source": [
    "int_nk$samplemplemple  %>% table"
   ]
  },
  {
   "cell_type": "markdown",
   "id": "230bfd06",
   "metadata": {},
   "source": [
    "## nsclc_1B"
   ]
  },
  {
   "cell_type": "code",
   "execution_count": null,
   "id": "59408ca6",
   "metadata": {},
   "outputs": [],
   "source": [
    "nk_nsclc_1B  <- subset(int_nk, sample == \"nsclc_1B\")"
   ]
  },
  {
   "cell_type": "code",
   "execution_count": null,
   "id": "d3bf91cd",
   "metadata": {},
   "outputs": [],
   "source": [
    "colnames(nk_nsclc_1B)  <- nk_nsclc_1B$barcode"
   ]
  },
  {
   "cell_type": "code",
   "execution_count": null,
   "id": "e9501715",
   "metadata": {},
   "outputs": [],
   "source": [
    "colnames(nk_nsclc_1B)  %>% head"
   ]
  },
  {
   "cell_type": "code",
   "execution_count": null,
   "id": "4deca648",
   "metadata": {},
   "outputs": [],
   "source": [
    "colnames(NSCLC.1B)  %>% head"
   ]
  },
  {
   "cell_type": "code",
   "execution_count": null,
   "id": "f37e8c6e",
   "metadata": {},
   "outputs": [],
   "source": [
    "colnames(nk_nsclc_1B) %in% colnames(NSCLC.1B)  %>% table"
   ]
  },
  {
   "cell_type": "code",
   "execution_count": null,
   "id": "fa505e6c",
   "metadata": {},
   "outputs": [],
   "source": [
    "ls()"
   ]
  },
  {
   "cell_type": "markdown",
   "id": "82b11c24",
   "metadata": {},
   "source": [
    "### NK cells in tissue"
   ]
  },
  {
   "cell_type": "code",
   "execution_count": null,
   "id": "eb1452e8",
   "metadata": {
    "scrolled": true
   },
   "outputs": [],
   "source": [
    "options(repr.plot.width = 20, repr.plot.height = 16)\n",
    "highlightCells(highlight_obj = nk_nsclc_1B, within_obj = NSCLC.1B, \n",
    "               size = 2, save_plot = FALSE, color_palette = c(\"darkblue\",\"yellow\"))"
   ]
  },
  {
   "cell_type": "markdown",
   "id": "ccb5ff50",
   "metadata": {},
   "source": [
    "## nsclc_2_a"
   ]
  },
  {
   "cell_type": "code",
   "execution_count": null,
   "id": "7363d6fc",
   "metadata": {},
   "outputs": [],
   "source": [
    "ls()"
   ]
  },
  {
   "cell_type": "code",
   "execution_count": null,
   "id": "4173b056",
   "metadata": {},
   "outputs": [],
   "source": [
    "nk_nsclc_2_a  <- subset(int_nk, sample == \"nsclc_2_a\")"
   ]
  },
  {
   "cell_type": "code",
   "execution_count": null,
   "id": "c8cf2335",
   "metadata": {},
   "outputs": [],
   "source": [
    "colnames(nk_nsclc_2_a)  <- nk_nsclc_2_a$barcode"
   ]
  },
  {
   "cell_type": "code",
   "execution_count": null,
   "id": "b6699f7a",
   "metadata": {},
   "outputs": [],
   "source": [
    "colnames(nk_nsclc_2_a)  %>% head"
   ]
  },
  {
   "cell_type": "code",
   "execution_count": null,
   "id": "c439fa29",
   "metadata": {},
   "outputs": [],
   "source": []
  },
  {
   "cell_type": "code",
   "execution_count": null,
   "id": "d35205e7",
   "metadata": {},
   "outputs": [],
   "source": [
    "colnames(nsclc_2_a)  %>% head"
   ]
  },
  {
   "cell_type": "code",
   "execution_count": null,
   "id": "87999f70",
   "metadata": {},
   "outputs": [],
   "source": [
    "load(\"Xenium/nsclc_2_a.rda\")\n"
   ]
  },
  {
   "cell_type": "code",
   "execution_count": null,
   "id": "e5efaa75",
   "metadata": {},
   "outputs": [],
   "source": [
    "colnames(nsclc_2_a)  %>% head"
   ]
  },
  {
   "cell_type": "code",
   "execution_count": null,
   "id": "40dd72d3",
   "metadata": {},
   "outputs": [],
   "source": [
    "colnames(nk_nsclc_2_a) %in% colnames(nsclc_2_a)  %>% table"
   ]
  },
  {
   "cell_type": "markdown",
   "id": "c8ed6693",
   "metadata": {},
   "source": [
    "### NK cells in tissue"
   ]
  },
  {
   "cell_type": "code",
   "execution_count": null,
   "id": "81f903e5",
   "metadata": {
    "scrolled": true
   },
   "outputs": [],
   "source": [
    "options(repr.plot.width = 20, repr.plot.height = 16)\n",
    "highlightCells(highlight_obj = nk_nsclc_2_a, within_obj = nsclc_2_a, \n",
    "               size = 3, save_plot = FALSE, color_palette = c(\"darkblue\",\"yellow\"))"
   ]
  },
  {
   "cell_type": "code",
   "execution_count": null,
   "id": "c0ed20c9",
   "metadata": {},
   "outputs": [],
   "source": [
    "ls()"
   ]
  },
  {
   "cell_type": "code",
   "execution_count": null,
   "id": "f7e99c82",
   "metadata": {},
   "outputs": [],
   "source": [
    "rm(hgsoc_2_a)"
   ]
  }
 ],
 "metadata": {
  "kernelspec": {
   "display_name": "R",
   "language": "R",
   "name": "ir"
  },
  "language_info": {
   "codemirror_mode": "r",
   "file_extension": ".r",
   "mimetype": "text/x-r-source",
   "name": "R",
   "pygments_lexer": "r",
   "version": "4.5.1"
  },
  "toc": {
   "base_numbering": 1,
   "nav_menu": {},
   "number_sections": true,
   "sideBar": true,
   "skip_h1_title": false,
   "title_cell": "Table of Contents",
   "title_sidebar": "Contents",
   "toc_cell": false,
   "toc_position": {},
   "toc_section_display": true,
   "toc_window_display": true
  }
 },
 "nbformat": 4,
 "nbformat_minor": 5
}

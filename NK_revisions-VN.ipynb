{
 "cells": [
  {
   "cell_type": "code",
   "execution_count": null,
   "id": "c5110a04",
   "metadata": {},
   "outputs": [],
   "source": [
    ".libPaths(\"~/R/x86_64-pc-linux-gnu-library/4.4/\")"
   ]
  },
  {
   "cell_type": "code",
   "execution_count": null,
   "id": "f4fa11b6",
   "metadata": {
    "scrolled": true
   },
   "outputs": [],
   "source": [
    "library(SingleCellExperiment)"
   ]
  },
  {
   "cell_type": "code",
   "execution_count": null,
   "id": "ce15fa02",
   "metadata": {},
   "outputs": [],
   "source": [
    "# Loading libraries\n",
    "library(\"Matrix\")\n",
    "library(Seurat)\n",
    "library(DT)\n",
    "library(dplyr)\n",
    "library(here)\n",
    "library(ggplot2)\n",
    "library(kableExtra)\n",
    "library(cowplot)\n",
    "library(tidyverse)\n",
    "library(reshape)\n",
    "library(SingleR)\n",
    "library(cowplot)\n",
    "library(fgsea)\n",
    "library(org.Mm.eg.db)\n",
    "library(biomaRt)\n",
    "library(furrr)\n",
    "library(STACAS)"
   ]
  },
  {
   "cell_type": "code",
   "execution_count": null,
   "id": "d20ba10b",
   "metadata": {},
   "outputs": [],
   "source": [
    "ggtheme <- function() {\n",
    "  theme(\n",
    "    axis.text = element_text(size = 20, colour = \"black\"),\n",
    "    axis.title = element_text(size = 20, colour = \"black\"),\n",
    "    text = element_text(size = 20, colour = \"black\"),\n",
    "    legend.text = element_text(size = 20, colour = \"black\"),\n",
    "    legend.key.size =  unit(10, units = \"points\"),\n",
    "    plot.background = element_blank()\n",
    "     )\n",
    "}"
   ]
  },
  {
   "cell_type": "code",
   "execution_count": null,
   "id": "f1775cc8",
   "metadata": {},
   "outputs": [],
   "source": [
    "load(\"datasets/NK.ver1.rda\")"
   ]
  },
  {
   "cell_type": "markdown",
   "id": "f7a86a87",
   "metadata": {},
   "source": [
    "# Analysis of updated NK dataset"
   ]
  },
  {
   "cell_type": "code",
   "execution_count": null,
   "id": "629d7ff8",
   "metadata": {},
   "outputs": [],
   "source": [
    "DimPlot(NK, group.by = \"harmony_clusters\", reduction = \"umap.harmony\")"
   ]
  },
  {
   "cell_type": "code",
   "execution_count": null,
   "id": "109d9adc",
   "metadata": {},
   "outputs": [],
   "source": [
    "NK  <- FindClusters(NK, resolution = 0.05)"
   ]
  },
  {
   "cell_type": "code",
   "execution_count": null,
   "id": "86e9fbef",
   "metadata": {},
   "outputs": [],
   "source": [
    "options(repr.plot.width = 5, repr.plot.height = 4)\n",
    "DimPlot(NK,reduction = \"umap.harmony\", label = T, label.size = 7)"
   ]
  },
  {
   "cell_type": "code",
   "execution_count": null,
   "id": "a74341d6",
   "metadata": {},
   "outputs": [],
   "source": [
    "VlnPlot(NK, features = c(\"nFeature_RNA\", \"nCount_RNA\"), pt.size = 0)"
   ]
  },
  {
   "cell_type": "code",
   "execution_count": null,
   "id": "4c40932e",
   "metadata": {},
   "outputs": [],
   "source": [
    "options(repr.plot.width = 10, repr.plot.height = 4)\n",
    "VlnPlot(NK, features = c(\"FCGR3A\", \"NCR1\", \"NCAM1\",\"NKG7\"), ncol = 4, pt.size = 0)"
   ]
  },
  {
   "cell_type": "code",
   "execution_count": null,
   "id": "27204b69",
   "metadata": {},
   "outputs": [],
   "source": [
    "mrk  <- FindAllMarkers(NK, only.pos = T)"
   ]
  },
  {
   "cell_type": "code",
   "execution_count": null,
   "id": "b8804b5b",
   "metadata": {},
   "outputs": [],
   "source": [
    "NK$Cohort  %>% table"
   ]
  },
  {
   "cell_type": "code",
   "execution_count": null,
   "id": "10afec06",
   "metadata": {},
   "outputs": [],
   "source": [
    "options(repr.plot.width = 5, repr.plot.height = 4)\n",
    "DimPlot(NK,reduction = \"umap.harmony\", label = T, group.by = \"Population\", label.size = 7)"
   ]
  },
  {
   "cell_type": "code",
   "execution_count": null,
   "id": "85d912e1",
   "metadata": {},
   "outputs": [],
   "source": [
    "NK$Population  %>% table"
   ]
  },
  {
   "cell_type": "code",
   "execution_count": null,
   "id": "5607a362",
   "metadata": {},
   "outputs": [],
   "source": [
    "T"
   ]
  },
  {
   "cell_type": "code",
   "execution_count": null,
   "id": "6284d74a",
   "metadata": {
    "scrolled": true
   },
   "outputs": [],
   "source": [
    "mrk  %>% dplyr::filter(cluster == 3)"
   ]
  },
  {
   "cell_type": "code",
   "execution_count": null,
   "id": "bad4911f",
   "metadata": {},
   "outputs": [],
   "source": [
    "options(repr.plot.width = 10, repr.plot.height = 4)\n",
    "VlnPlot(NK, features = c(\"C1R\", \"OGN\", \"MGP\",\"ADIRF\"), ncol = 4, pt.size = 0)"
   ]
  },
  {
   "cell_type": "code",
   "execution_count": null,
   "id": "aedc0038",
   "metadata": {
    "scrolled": true
   },
   "outputs": [],
   "source": [
    "mrk  %>% dplyr::filter(cluster == 4)"
   ]
  },
  {
   "cell_type": "code",
   "execution_count": null,
   "id": "5ca258b7",
   "metadata": {},
   "outputs": [],
   "source": [
    "FeaturePlot(NK, features = c(\"NCR1\",\"CD3D\",\"CCL5\",\"TRAC\"), reduction = \"umap.harmony\")"
   ]
  },
  {
   "cell_type": "code",
   "execution_count": null,
   "id": "9b817874",
   "metadata": {},
   "outputs": [],
   "source": [
    "FeaturePlot(NK, features = c(\"NCAM1\",\"FCER1G\",\"NKG2D\",\"CTLA4\"), reduction = \"umap.harmony\")"
   ]
  },
  {
   "cell_type": "code",
   "execution_count": null,
   "id": "d69ffe4d",
   "metadata": {},
   "outputs": [],
   "source": [
    "FeaturePlot(NK, features = c(\"CD3D\",\"CD3E\",\"LAT\",\"TRAC\"), reduction = \"umap.harmony\")"
   ]
  },
  {
   "cell_type": "markdown",
   "id": "0db07387",
   "metadata": {},
   "source": [
    "## Separation of NK1 and NK2 populations"
   ]
  },
  {
   "cell_type": "code",
   "execution_count": null,
   "id": "a4fcd050",
   "metadata": {},
   "outputs": [],
   "source": [
    "nk1  <- subset(NK, seurat_clusters == 2)\n",
    "nk2  <- subset(NK, seurat_clusters == 1)\n"
   ]
  },
  {
   "cell_type": "code",
   "execution_count": null,
   "id": "f5c66ee4",
   "metadata": {},
   "outputs": [],
   "source": [
    "DimPlot(nk1, reduction = \"umap.harmony\")"
   ]
  },
  {
   "cell_type": "code",
   "execution_count": null,
   "id": "f4ed157b",
   "metadata": {},
   "outputs": [],
   "source": [
    "DimPlot(nk2, reduction = \"umap.harmony\")"
   ]
  },
  {
   "cell_type": "code",
   "execution_count": null,
   "id": "b3314b3e",
   "metadata": {},
   "outputs": [],
   "source": [
    "nk2$umap_x  <- nk2@reductions$umap.harmony@cell.embeddings[,1]"
   ]
  },
  {
   "cell_type": "code",
   "execution_count": null,
   "id": "f4a0aeb4",
   "metadata": {},
   "outputs": [],
   "source": [
    "nk2$umap_x_keep  <-   nk2$umap_x < -2.5"
   ]
  },
  {
   "cell_type": "code",
   "execution_count": null,
   "id": "da53424f",
   "metadata": {},
   "outputs": [],
   "source": [
    "DimPlot(nk2, reduction = \"umap.harmony\", group.by = \"umap_x_keep\")"
   ]
  },
  {
   "cell_type": "code",
   "execution_count": null,
   "id": "1bc7acf5",
   "metadata": {
    "scrolled": true
   },
   "outputs": [],
   "source": [
    "nk2  <- subset(nk2, umap_x_keep == TRUE)\n"
   ]
  },
  {
   "cell_type": "code",
   "execution_count": null,
   "id": "856d10c8",
   "metadata": {},
   "outputs": [],
   "source": [
    "DimPlot(nk2, reduction = \"umap.harmony\")"
   ]
  },
  {
   "cell_type": "code",
   "execution_count": null,
   "id": "7d8a4cc1",
   "metadata": {},
   "outputs": [],
   "source": [
    "nk2  <- FindClusters(nk2, res = 0.5)"
   ]
  },
  {
   "cell_type": "code",
   "execution_count": null,
   "id": "733d4d22",
   "metadata": {},
   "outputs": [],
   "source": [
    "options(repr.plot.width = 6, repr.plot.height = 5)\n",
    "DimPlot(nk2, reduction = \"umap.harmony\", label = T, label.size = 7)"
   ]
  },
  {
   "cell_type": "code",
   "execution_count": null,
   "id": "6ebe3b6d",
   "metadata": {},
   "outputs": [],
   "source": [
    "options(repr.plot.width = 6, repr.plot.height = 5)\n",
    "FeaturePlot(nk2, reduction = \"umap.harmony\", features = \"NCAM1\")"
   ]
  },
  {
   "cell_type": "code",
   "execution_count": null,
   "id": "98b54829",
   "metadata": {},
   "outputs": [],
   "source": [
    "FeaturePlot(nk2, reduction = \"umap.harmony\", features = \"IL7R\")"
   ]
  },
  {
   "cell_type": "code",
   "execution_count": null,
   "id": "4a439e8c",
   "metadata": {},
   "outputs": [],
   "source": [
    "FeaturePlot(nk2, reduction = \"umap.harmony\", features = \"GNLY\")"
   ]
  },
  {
   "cell_type": "code",
   "execution_count": null,
   "id": "0ea752b6",
   "metadata": {},
   "outputs": [],
   "source": [
    "FeaturePlot(nk2, reduction = \"umap.harmony\", features = \"CTLA4\")"
   ]
  },
  {
   "cell_type": "code",
   "execution_count": null,
   "id": "5e17961f",
   "metadata": {},
   "outputs": [],
   "source": [
    "FeaturePlot(nk2, reduction = \"umap.harmony\", features = \"PDCD1\")"
   ]
  },
  {
   "cell_type": "code",
   "execution_count": null,
   "id": "53f3b153",
   "metadata": {},
   "outputs": [],
   "source": [
    "FeaturePlot(nk2, reduction = \"umap.harmony\", features = \"LAG3\")"
   ]
  },
  {
   "cell_type": "code",
   "execution_count": null,
   "id": "d95d6215",
   "metadata": {},
   "outputs": [],
   "source": [
    "FeaturePlot(nk2, reduction = \"umap.harmony\", features = \"KLRC1\")"
   ]
  },
  {
   "cell_type": "code",
   "execution_count": null,
   "id": "b91241c4",
   "metadata": {},
   "outputs": [],
   "source": [
    "FeaturePlot(nk2, reduction = \"umap.harmony\", features = \"IFI44L\")"
   ]
  },
  {
   "cell_type": "code",
   "execution_count": null,
   "id": "d79720a4",
   "metadata": {},
   "outputs": [],
   "source": [
    "FeaturePlot(nk2, reduction = \"umap.harmony\", features = \"NFKBIA\")"
   ]
  },
  {
   "cell_type": "markdown",
   "id": "7128f031",
   "metadata": {},
   "source": [
    "## Markers of NK2 clusters"
   ]
  },
  {
   "cell_type": "code",
   "execution_count": null,
   "id": "a2f39638",
   "metadata": {},
   "outputs": [],
   "source": [
    "mrk  <- FindAllMarkers(nk2)"
   ]
  },
  {
   "cell_type": "code",
   "execution_count": null,
   "id": "5576253c",
   "metadata": {
    "scrolled": true
   },
   "outputs": [],
   "source": [
    "mrk"
   ]
  },
  {
   "cell_type": "code",
   "execution_count": null,
   "id": "651912b8",
   "metadata": {},
   "outputs": [],
   "source": [
    "mrk  %>% dplyr::filter(avg_log2FC > 0)  %>% \n",
    "group_by(cluster)  %>% slice_head(n = 10)  %>% pull(gene)  %>% unique"
   ]
  },
  {
   "cell_type": "code",
   "execution_count": null,
   "id": "0d4a061e",
   "metadata": {},
   "outputs": [],
   "source": [
    "options(repr.plot.width = 6, repr.plot.height = 15)\n",
    "DotPlot(nk2, features = mrk  %>%  dplyr::filter(avg_log2FC > 0) %>% \n",
    "        group_by(cluster)  %>% slice_head(n = 10)  %>% pull(gene)  %>% unique) +\n",
    "coord_flip()"
   ]
  },
  {
   "cell_type": "code",
   "execution_count": null,
   "id": "5b8ed306",
   "metadata": {},
   "outputs": [],
   "source": [
    "options(repr.plot.width = 5, repr.plot.height = 10)\n",
    "DotPlot(nk2, features = c(\"CST7\",\"CCL5\",\"KLRB1\",\"GZMM\",\"CD160\",\"GZMA\",\"CD247\",\n",
    "                          \"KLRC1\",\"NFKBIA\",\"REL\",\"NFKBIZ\",\"NFKB1\",\"ICAM1\",\n",
    "                         \"SELL\",\"IL7R\",\"CCR7\",\"ITGAX\",\"GNLY\",\"TNFRSF11A\",\n",
    "                         \"ITGA1\",\"RBPJ\",\"NCAM1\",\"CSF1\",\"IFI44L\",\"PDCD1\",\"CTLA4\",\"LAG3\",\n",
    "                         \"DUSP1\",\"CCL3\",\"CCL4\",\"FOS\",\"FOSB\")) +\n",
    "coord_flip() + scale_color_gradient2(low = \"dodgerblue\",mid = \"white\", high = \"indianred2\") +\n",
    "scale_size_continuous(range = c(2,5)) +\n",
    "xlab(\"\") +\n",
    "theme(axis.text.x = element_text(angle = 00)) "
   ]
  },
  {
   "cell_type": "code",
   "execution_count": null,
   "id": "a36db11c",
   "metadata": {
    "scrolled": true
   },
   "outputs": [],
   "source": [
    "mrk  %>% dplyr::filter(cluster == 0 & avg_log2FC>0)"
   ]
  },
  {
   "cell_type": "markdown",
   "id": "54c3dc27",
   "metadata": {},
   "source": [
    "# Slingshot trajectory in NK2 cells"
   ]
  },
  {
   "cell_type": "code",
   "execution_count": null,
   "id": "3d7b9a1d",
   "metadata": {},
   "outputs": [],
   "source": [
    ".libPaths(\"~/R/x86_64-pc-linux-gnu-library/4.4/\")\n",
    "\n",
    "\n",
    "library(grDevices)\n",
    "library(RColorBrewer)\n",
    "library(slingshot)"
   ]
  },
  {
   "cell_type": "code",
   "execution_count": null,
   "id": "5c136948",
   "metadata": {},
   "outputs": [],
   "source": [
    "saveRDS(nk2, \"datasets/nk2.rds\")"
   ]
  },
  {
   "cell_type": "code",
   "execution_count": null,
   "id": "13c436fd",
   "metadata": {},
   "outputs": [],
   "source": [
    "nk2  <- readRDS(\"datasets/nk2.rds\")"
   ]
  },
  {
   "cell_type": "code",
   "execution_count": null,
   "id": "3310ef77",
   "metadata": {},
   "outputs": [],
   "source": [
    "DimPlot(nk2, reduction = \"umap.harmony\")"
   ]
  },
  {
   "cell_type": "code",
   "execution_count": null,
   "id": "a20d5c43",
   "metadata": {},
   "outputs": [],
   "source": [
    "nk2_without_dead  <- subset(nk2, seurat_clusters %in% c(0:4))"
   ]
  },
  {
   "cell_type": "code",
   "execution_count": null,
   "id": "e71c725b",
   "metadata": {},
   "outputs": [],
   "source": [
    "nk2  <- nk2_without_dead"
   ]
  },
  {
   "cell_type": "code",
   "execution_count": null,
   "id": "475940f2",
   "metadata": {},
   "outputs": [],
   "source": [
    "nk2"
   ]
  },
  {
   "cell_type": "code",
   "execution_count": null,
   "id": "d18c07dd",
   "metadata": {},
   "outputs": [],
   "source": [
    "options(repr.plot.width = 6, repr.plot.height = 5)\n",
    "DimPlot(nk2, reduction = \"umap.harmony\")"
   ]
  },
  {
   "cell_type": "code",
   "execution_count": null,
   "id": "c48b3974",
   "metadata": {},
   "outputs": [],
   "source": [
    "mtx  <- nk2@assays$RNA@layers$scale.data"
   ]
  },
  {
   "cell_type": "code",
   "execution_count": null,
   "id": "956e2878",
   "metadata": {},
   "outputs": [],
   "source": [
    "rownames(mtx)  <- rownames(nk2@assays$RNA@layers$scale.data)"
   ]
  },
  {
   "cell_type": "code",
   "execution_count": null,
   "id": "7ac81960",
   "metadata": {},
   "outputs": [],
   "source": [
    "scaled_matrix <- GetAssayData(object = nk2, slot = \"scale.data\")"
   ]
  },
  {
   "cell_type": "code",
   "execution_count": null,
   "id": "b75b4a7d",
   "metadata": {
    "scrolled": true
   },
   "outputs": [],
   "source": [
    "scaled_matrix"
   ]
  },
  {
   "cell_type": "code",
   "execution_count": null,
   "id": "6f6b1190",
   "metadata": {},
   "outputs": [],
   "source": [
    "write.csv(scaled_matrix, \"tables/nk_scale_data_matrix.csv\")"
   ]
  },
  {
   "cell_type": "code",
   "execution_count": null,
   "id": "0f212f09",
   "metadata": {
    "scrolled": true
   },
   "outputs": [],
   "source": [
    "nk2@assays$RNA@layers$scale.data"
   ]
  },
  {
   "cell_type": "code",
   "execution_count": null,
   "id": "8f2e1aca",
   "metadata": {},
   "outputs": [],
   "source": [
    "options(repr.plot.width = 6, repr.plot.height = 5)\n",
    "DimPlot(nk2, reduction = \"umap.harmony\")"
   ]
  },
  {
   "cell_type": "code",
   "execution_count": null,
   "id": "3ccbd26c",
   "metadata": {},
   "outputs": [],
   "source": [
    "nk2"
   ]
  },
  {
   "cell_type": "code",
   "execution_count": null,
   "id": "ab8866f4",
   "metadata": {},
   "outputs": [],
   "source": [
    "p <- DotPlot(nk2, features = c(\"CST7\",\"CCL5\",\"KLRB1\",\"GZMM\",\"CD160\",\"GZMA\",\"CD247\",\n",
    "                          \"KLRC1\",\"NFKBIA\",\"REL\",\"NFKBIZ\",\"NFKB1\",\"ICAM1\",\n",
    "                         \"SELL\",\"IL7R\",\"CCR7\",\"ITGAX\",\"GNLY\",\"TNFRSF11A\",\n",
    "                         \"ITGA1\",\"RBPJ\",\"NCAM1\",\"CSF1\",\"IFI44L\",\"PDCD1\",\"CTLA4\",\"LAG3\",\n",
    "                         \"DUSP1\",\"CCL3\",\"CCL4\",\"FOS\",\"FOSB\"))\n",
    "# Extract source data:\n",
    "dotplot_data <- p$data\n",
    "head(dotplot_data)"
   ]
  },
  {
   "cell_type": "code",
   "execution_count": null,
   "id": "8af4f6aa",
   "metadata": {},
   "outputs": [],
   "source": [
    "write.csv(dotplot_data, \"tables/251009_source_data_2G.csv\")"
   ]
  },
  {
   "cell_type": "code",
   "execution_count": null,
   "id": "0aa2cbb9",
   "metadata": {},
   "outputs": [],
   "source": [
    "options(repr.plot.width = 10, repr.plot.height = 10)\n",
    "DotPlot(nk2, features = c(\"CST7\",\"CCL5\",\"KLRB1\",\"GZMM\",\"CD160\",\"GZMA\",\"CD247\",\n",
    "                          \"KLRC1\",\"NFKBIA\",\"REL\",\"NFKBIZ\",\"NFKB1\",\"ICAM1\",\n",
    "                         \"SELL\",\"IL7R\",\"CCR7\",\"ITGAX\",\"GNLY\",\"TNFRSF11A\",\n",
    "                         \"ITGA1\",\"RBPJ\",\"NCAM1\",\"CSF1\",\"IFI44L\",\"PDCD1\",\"CTLA4\",\"LAG3\",\n",
    "                         \"DUSP1\",\"CCL3\",\"CCL4\",\"FOS\",\"FOSB\")) +\n",
    "coord_flip() + scale_color_gradient2(low = \"dodgerblue\",mid = \"white\", high = \"indianred2\") +\n",
    "scale_size_continuous(range = c(2,5)) +\n",
    "xlab(\"\") +\n",
    "theme(axis.text.x = element_text(angle = 00),\n",
    "     axis.text.y = element_text(face = \"italic\"))  +\n",
    "ggtheme()\n",
    "#ggsave(\"figures/nk_populations_dot_plot.svg\", width = 15, height = 22, units = \"cm\")"
   ]
  },
  {
   "cell_type": "code",
   "execution_count": null,
   "id": "6bf8e7e4",
   "metadata": {},
   "outputs": [],
   "source": [
    "DotPlot(nk2, features = c(\"CST7\",\"CCL5\",\"KLRB1\",\"GZMM\",\"CD160\",\"GZMA\",\"CD247\",\n",
    "                          \"KLRC1\",\"NFKBIA\",\"REL\",\"NFKBIZ\",\"NFKB1\",\"ICAM1\",\n",
    "                         \"SELL\",\"IL7R\",\"CCR7\",\"ITGAX\",\"GNLY\",\"TNFRSF11A\",\n",
    "                         \"ITGA1\",\"RBPJ\",\"NCAM1\",\"CSF1\",\"IFI44L\",\"PDCD1\",\"CTLA4\",\"LAG3\",\n",
    "                         \"DUSP1\",\"CCL3\",\"CCL4\",\"FOS\",\"FOSB\"))"
   ]
  },
  {
   "cell_type": "code",
   "execution_count": null,
   "id": "1c3ff061",
   "metadata": {},
   "outputs": [],
   "source": [
    "DotPlot(nk2, features = c(\"CST7\",\"CCL5\",\"KLRB1\",\"GZMM\",\"CD160\",\"GZMA\",\"CD247\",\n",
    "                          \"KLRC1\",\"NFKBIA\",\"REL\",\"NFKBIZ\",\"NFKB1\",\"ICAM1\",\n",
    "                         \"SELL\",\"IL7R\",\"CCR7\",\"ITGAX\",\"GNLY\",\"TNFRSF11A\",\n",
    "                         \"ITGA1\",\"RBPJ\",\"NCAM1\",\"CSF1\",\"IFI44L\",\"PDCD1\",\"CTLA4\",\"LAG3\",\n",
    "                         \"DUSP1\",\"CCL3\",\"CCL4\",\"FOS\",\"FOSB\")) +\n",
    "coord_flip() + scale_color_gradient2(low = \"dodgerblue\",mid = \"white\", high = \"indianred2\") +\n",
    "scale_size_continuous(range = c(2,5)) +\n",
    "xlab(\"\") +\n",
    "theme(axis.text.x = element_text(angle = 00),\n",
    "     axis.text.y = element_text(face = \"italic\"))  "
   ]
  },
  {
   "cell_type": "code",
   "execution_count": null,
   "id": "8c166139",
   "metadata": {},
   "outputs": [],
   "source": [
    "DefaultAssay(nk2) <- \"RNA\"\n",
    "\n",
    "fun_basic <- nk2\n",
    "\n",
    "Idents(fun_basic) <- fun_basic$seurat_clusters\n",
    "\n",
    "sce <- as.SingleCellExperiment(fun_basic)\n",
    "\n",
    "reducedDim(sce, \"PCA\", withDimnames=TRUE) <- nk2[['pca']]@cell.embeddings\n",
    "#reducedDim(sce, \"UMAP\", withDimnames=TRUE) <- fun_basic[['umap']]@cell.embeddings\n",
    "reducedDim(sce, \"UMAP.harmony\", withDimnames=TRUE) <- fun_basic[['umap.harmony']]@cell.embeddings"
   ]
  },
  {
   "cell_type": "code",
   "execution_count": null,
   "id": "70bcb375",
   "metadata": {},
   "outputs": [],
   "source": [
    "sce <- slingshot(sce, clusterLabels = 'seurat_clusters', reducedDim = 'UMAP.harmony', start.clus= 2)"
   ]
  },
  {
   "cell_type": "code",
   "execution_count": null,
   "id": "19e534f7",
   "metadata": {},
   "outputs": [],
   "source": [
    "colors <- colorRampPalette(brewer.pal(11,'Spectral')[-6])(100)\n",
    "plotcol <- colors[cut(sce$slingPseudotime_1, breaks=100)]"
   ]
  },
  {
   "cell_type": "code",
   "execution_count": null,
   "id": "8e85a659",
   "metadata": {},
   "outputs": [],
   "source": [
    "sce$slingPseudotime_1  <- sce$slingPseudotime_1*-1"
   ]
  },
  {
   "cell_type": "code",
   "execution_count": null,
   "id": "8c6a2c83",
   "metadata": {},
   "outputs": [],
   "source": [
    "options(repr.plot.width = 4, repr.plot.height = 4)\n",
    "plot(reducedDims(sce)$UMAP.harmony, col = colors[cut(sce$slingPseudotime_1, breaks=100)], pch = 16)"
   ]
  },
  {
   "cell_type": "code",
   "execution_count": null,
   "id": "513813ba",
   "metadata": {},
   "outputs": [],
   "source": [
    "md  <- data.frame(sce@colData$slingPseudotime_1)"
   ]
  },
  {
   "cell_type": "code",
   "execution_count": null,
   "id": "5de60a94",
   "metadata": {},
   "outputs": [],
   "source": [
    "md$slingPseudotime  <- sce@colData$slingPseudotime_1"
   ]
  },
  {
   "cell_type": "code",
   "execution_count": null,
   "id": "7b76505e",
   "metadata": {},
   "outputs": [],
   "source": [
    "plot(reducedDims(sce)$UMAP.harmony, col = colors[cut(md$slingPseudotime, breaks=100)], pch = 16)\n",
    "lines(SlingshotDataSet(sce), lwd=4, col='black')"
   ]
  },
  {
   "cell_type": "code",
   "execution_count": null,
   "id": "e3d32536",
   "metadata": {},
   "outputs": [],
   "source": [
    "md  <- data.frame(sce@colData$slingPseudotime_1)"
   ]
  },
  {
   "cell_type": "code",
   "execution_count": null,
   "id": "5bfa1602",
   "metadata": {},
   "outputs": [],
   "source": [
    "coord  <- as.data.frame(nk2@reductions$umap.harmony@cell.embeddings)"
   ]
  },
  {
   "cell_type": "code",
   "execution_count": null,
   "id": "3f668d44",
   "metadata": {
    "scrolled": true
   },
   "outputs": [],
   "source": [
    "coord$seurat_clusters  <-  nk2$seurat_clusters"
   ]
  },
  {
   "cell_type": "code",
   "execution_count": null,
   "id": "0ebd11c1",
   "metadata": {},
   "outputs": [],
   "source": []
  },
  {
   "cell_type": "code",
   "execution_count": null,
   "id": "6dc693de",
   "metadata": {},
   "outputs": [],
   "source": [
    "write.csv2(coord, \"tables/251009_source_data_2F.csv\")"
   ]
  },
  {
   "cell_type": "code",
   "execution_count": null,
   "id": "09974502",
   "metadata": {},
   "outputs": [],
   "source": [
    "write.csv2(coord, \"tables/251009_source_data_2F.csv\")"
   ]
  },
  {
   "cell_type": "code",
   "execution_count": null,
   "id": "8b72307f",
   "metadata": {},
   "outputs": [],
   "source": [
    "coord  <- as.data.frame(nk2@reductions$umap.harmony@cell.embeddings)"
   ]
  },
  {
   "cell_type": "code",
   "execution_count": null,
   "id": "9231137f",
   "metadata": {},
   "outputs": [],
   "source": [
    "coord$pseudotime  <- sce$slingPseudotime_1"
   ]
  },
  {
   "cell_type": "code",
   "execution_count": null,
   "id": "f9e071d3",
   "metadata": {
    "scrolled": true
   },
   "outputs": [],
   "source": [
    "coord"
   ]
  },
  {
   "cell_type": "code",
   "execution_count": null,
   "id": "3b92b362",
   "metadata": {},
   "outputs": [],
   "source": [
    "write.csv2(coord, \"tables/251009_source_data_2H.csv\")"
   ]
  },
  {
   "cell_type": "code",
   "execution_count": null,
   "id": "f7d9c623",
   "metadata": {},
   "outputs": [],
   "source": [
    "pdf(file = \"figures/revisions_trajectories.pdf\", width = 6, height = 6)\n",
    "plot(reducedDims(sce)$UMAP.harmony, col = colors[cut(sce$slingPseudotime_1, breaks=100)], pch = 16)\n",
    "lines(SlingshotDataSet(sce), lwd=4, col='black')\n",
    "dev.off()"
   ]
  },
  {
   "cell_type": "code",
   "execution_count": null,
   "id": "5fae8cfd",
   "metadata": {},
   "outputs": [],
   "source": [
    "nk2$Cohort  %>% table"
   ]
  },
  {
   "cell_type": "code",
   "execution_count": null,
   "id": "af0d22a5",
   "metadata": {},
   "outputs": [],
   "source": [
    "psts <- slingPseudotime(sce) %>%\n",
    "  as.data.frame() %>%\n",
    "  mutate(cells = rownames(.),\n",
    "         conditions = nk2$Cohort) %>%\n",
    "  pivot_longer(starts_with(\"Lineage\"), values_to = \"pseudotime\", names_to = \"lineages\")"
   ]
  },
  {
   "cell_type": "code",
   "execution_count": null,
   "id": "fbbeb035",
   "metadata": {
    "scrolled": true
   },
   "outputs": [],
   "source": [
    "psts"
   ]
  },
  {
   "cell_type": "code",
   "execution_count": null,
   "id": "a089cce2",
   "metadata": {
    "scrolled": true
   },
   "outputs": [],
   "source": [
    "options(repr.plot.width = 9, repr.plot.height = 4)\n",
    "psts  %>% \n",
    "dplyr::filter(lineages == \"Lineage1\")  %>% \n",
    "ggplot(aes(x = pseudotime, color = conditions, fill = conditions)) +\n",
    "  geom_density(alpha = .03) +\n",
    "  #scale_fill_brewer(type = \"qual\") +\n",
    "  facet_wrap(~lineages) +\n",
    "  theme(legend.position = \"bottom\") +\n",
    "theme_classic() +\n",
    "ggtheme()\n",
    "\n",
    "ggsave(\"figures/nk_populations_pseudotime.svg\", width = 24, height = 8, units = \"cm\")"
   ]
  },
  {
   "cell_type": "markdown",
   "id": "d4aa9eda",
   "metadata": {},
   "source": [
    "# Source data"
   ]
  },
  {
   "cell_type": "code",
   "execution_count": null,
   "id": "0895c592",
   "metadata": {},
   "outputs": [],
   "source": [
    "int_nk  <- readRDS(\"datasets/int_nk.rds\")"
   ]
  },
  {
   "cell_type": "code",
   "execution_count": null,
   "id": "8607cd96",
   "metadata": {},
   "outputs": [],
   "source": [
    "int_nk$nk_type  %>% table"
   ]
  },
  {
   "cell_type": "code",
   "execution_count": null,
   "id": "78f80a69",
   "metadata": {
    "scrolled": true
   },
   "outputs": [],
   "source": [
    "avgexp = AggregateExpression(int_nk, \n",
    "                             return.seurat = F, group.by = c(\"nk_type\", \"sample\"),\n",
    "                          assay = \"SCT\", slot = \"scale.data\")"
   ]
  },
  {
   "cell_type": "code",
   "execution_count": null,
   "id": "0a363682",
   "metadata": {},
   "outputs": [],
   "source": [
    "rownames(avgexp$SCT)  <- rownames(int_nk)"
   ]
  },
  {
   "cell_type": "code",
   "execution_count": null,
   "id": "41281811",
   "metadata": {},
   "outputs": [],
   "source": [
    "genes  <- c('CLEC2D', 'CRTAM', 'HAVCR2', 'KLRC1', 'KLRC2', 'NCAM1', 'NR4A1', \n",
    "'NR4A3', 'ZEB2', 'DNAJB1','FCGR3A', 'HSPA1A','KIR2DL3','KLRB1', 'KLRD1', \n",
    "'KLRF1', 'KLRK1', 'NCR3', 'FCGR3A', \n",
    "'FGFBP2','GZMA', 'GZMB', 'GZMH', 'IFNG', \"GZMK\", \"IL12B\",\n",
    "'PRF1', 'TNFSF10', \"IFNGR1\", \"TBX21\", \"CST7\", \"S100B\",\"CCL3\",\"CCL4\")\n",
    "\n",
    "avgexp2  <- avgexp$SCT[which(rownames(avgexp$SCT) %in% genes),]"
   ]
  },
  {
   "cell_type": "code",
   "execution_count": null,
   "id": "2bedd224",
   "metadata": {
    "scrolled": true
   },
   "outputs": [],
   "source": [
    "avgexp2"
   ]
  },
  {
   "cell_type": "code",
   "execution_count": null,
   "id": "8b189929",
   "metadata": {},
   "outputs": [],
   "source": [
    "avgexp_nsclc_2_a  <- avgexp2"
   ]
  },
  {
   "cell_type": "code",
   "execution_count": null,
   "id": "e75fae9b",
   "metadata": {},
   "outputs": [],
   "source": [
    "avgexp_nsclc_2_a"
   ]
  },
  {
   "cell_type": "code",
   "execution_count": null,
   "id": "cabf9c82",
   "metadata": {
    "scrolled": true
   },
   "outputs": [],
   "source": [
    "library(pheatmap)\n",
    "\n",
    "options(repr.plot.width = 4, repr.plot.height = 9)\n",
    "pheatmap(avgexp_nsclc_2_a, main = \"\", scale = \"row\", cluster_cols = F, cluster_rows = T,\n",
    "        color=colorRampPalette(c(\"dodgerblue\", \"grey95\", \"indianred2\"))(50), \n",
    "         border_color = \"white\", width = 9, height = 3.3,\n",
    "                  fontsize = 9)"
   ]
  },
  {
   "cell_type": "code",
   "execution_count": null,
   "id": "c0ad6246",
   "metadata": {},
   "outputs": [],
   "source": [
    "genes  <- c( 'HAVCR2', 'KLRC1',  'NCAM1', \n",
    "'KLRF1', 'KLRK1', 'NCR3', 'FCGR3A',  \"PRF1\",\n",
    "'FGFBP2', 'GZMB', 'GZMH', 'IFNG', \"GZMK\", \n",
    "'PRF1', 'TNFSF10', \"TBX21\", \"CST7\", \"NKG7\", \n",
    "           \"CX3CR1\", \"CD44\",\"TOX\",\"CTLA4\")\n",
    "\n",
    "avgexp3  <- avgexp$SCT[which(rownames(avgexp$SCT) %in% genes),]\n",
    "\n",
    "options(repr.plot.width = 4, repr.plot.height = 6)\n",
    "pheatmap(avgexp3, main = \"\", scale = \"row\", cluster_cols = F, cluster_rows = T,\n",
    "        color=colorRampPalette(c(\"dodgerblue\", \"grey95\", \"indianred2\"))(50), \n",
    "         border_color = \"white\", width = 9, height = 3.3,\n",
    "                  fontsize = 9)"
   ]
  },
  {
   "cell_type": "code",
   "execution_count": null,
   "id": "850cff74",
   "metadata": {},
   "outputs": [],
   "source": [
    "avgexp3  %>% as.data.frame()"
   ]
  }
 ],
 "metadata": {
  "kernelspec": {
   "display_name": "R",
   "language": "R",
   "name": "ir"
  },
  "language_info": {
   "codemirror_mode": "r",
   "file_extension": ".r",
   "mimetype": "text/x-r-source",
   "name": "R",
   "pygments_lexer": "r",
   "version": "4.5.1"
  },
  "toc": {
   "base_numbering": 1,
   "nav_menu": {},
   "number_sections": true,
   "sideBar": true,
   "skip_h1_title": false,
   "title_cell": "Table of Contents",
   "title_sidebar": "Contents",
   "toc_cell": false,
   "toc_position": {},
   "toc_section_display": true,
   "toc_window_display": true
  }
 },
 "nbformat": 4,
 "nbformat_minor": 5
}
